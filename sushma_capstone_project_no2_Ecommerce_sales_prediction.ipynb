{
 "cells": [
  {
   "cell_type": "markdown",
   "id": "503235cd",
   "metadata": {},
   "source": [
    "# E-COMMERCE: SALES PREDICTION"
   ]
  },
  {
   "cell_type": "markdown",
   "id": "f451bb7e",
   "metadata": {},
   "source": [
    "Our world is the one of online shopping. Via the internet, we occasionally come across plenty of distinct stores. Internet made it possible to deal with anyone and everywhere. We can purchase items from the comfort of our home, quickly compare prices across multiple retailers, locate what we truly want, and resist the temptation to choose the first somewhat acceptable offer. Furthermore, I think it would be quite fascinating to examine this environment through the data it generates. I made the decision to experiment with e-commerce statistics in an effort to have a deeper understanding of it.\n",
    "\n",
    "This is a transnational data set which contains all the transactions occurring between 01/12/2010 and 09/12/2011 for a UK-based and registered non-store online retail.The company mainly sells unique all-occasion gifts. Many customers of the company are wholesalers.\n",
    "\n"
   ]
  },
  {
   "cell_type": "code",
   "execution_count": 1,
   "id": "5fba275e",
   "metadata": {},
   "outputs": [],
   "source": [
    "import pandas as pd\n",
    "import numpy as np\n",
    "import matplotlib.pyplot as plt\n",
    "import seaborn as sns\n",
    "import warnings\n",
    "warnings.filterwarnings('ignore')\n",
    "%matplotlib inline"
   ]
  },
  {
   "cell_type": "code",
   "execution_count": 2,
   "id": "7bace1fa",
   "metadata": {},
   "outputs": [],
   "source": [
    "ecommerce_data=pd.read_excel(\"Ecommerce_business.xlsx\")"
   ]
  },
  {
   "cell_type": "code",
   "execution_count": 3,
   "id": "c926dc06",
   "metadata": {},
   "outputs": [],
   "source": [
    "df=ecommerce_data"
   ]
  },
  {
   "cell_type": "code",
   "execution_count": 4,
   "id": "2d1b5d9c",
   "metadata": {},
   "outputs": [
    {
     "data": {
      "text/html": [
       "<div>\n",
       "<style scoped>\n",
       "    .dataframe tbody tr th:only-of-type {\n",
       "        vertical-align: middle;\n",
       "    }\n",
       "\n",
       "    .dataframe tbody tr th {\n",
       "        vertical-align: top;\n",
       "    }\n",
       "\n",
       "    .dataframe thead th {\n",
       "        text-align: right;\n",
       "    }\n",
       "</style>\n",
       "<table border=\"1\" class=\"dataframe\">\n",
       "  <thead>\n",
       "    <tr style=\"text-align: right;\">\n",
       "      <th></th>\n",
       "      <th>Invoice_No</th>\n",
       "      <th>StockCode</th>\n",
       "      <th>Description</th>\n",
       "      <th>Quantity</th>\n",
       "      <th>InvoiceDate</th>\n",
       "      <th>UnitPrice</th>\n",
       "      <th>CustomerID</th>\n",
       "      <th>Country</th>\n",
       "    </tr>\n",
       "  </thead>\n",
       "  <tbody>\n",
       "    <tr>\n",
       "      <th>0</th>\n",
       "      <td>536365</td>\n",
       "      <td>85123A</td>\n",
       "      <td>WHITE HANGING HEART T-LIGHT HOLDER</td>\n",
       "      <td>6</td>\n",
       "      <td>2010-12-01 08:26:00</td>\n",
       "      <td>2.55</td>\n",
       "      <td>17850.0</td>\n",
       "      <td>United Kingdom</td>\n",
       "    </tr>\n",
       "    <tr>\n",
       "      <th>1</th>\n",
       "      <td>536365</td>\n",
       "      <td>71053</td>\n",
       "      <td>WHITE METAL LANTERN</td>\n",
       "      <td>6</td>\n",
       "      <td>2010-12-01 08:26:00</td>\n",
       "      <td>3.39</td>\n",
       "      <td>17850.0</td>\n",
       "      <td>United Kingdom</td>\n",
       "    </tr>\n",
       "  </tbody>\n",
       "</table>\n",
       "</div>"
      ],
      "text/plain": [
       "  Invoice_No StockCode                         Description  Quantity  \\\n",
       "0     536365    85123A  WHITE HANGING HEART T-LIGHT HOLDER         6   \n",
       "1     536365     71053                 WHITE METAL LANTERN         6   \n",
       "\n",
       "          InvoiceDate  UnitPrice  CustomerID         Country  \n",
       "0 2010-12-01 08:26:00       2.55     17850.0  United Kingdom  \n",
       "1 2010-12-01 08:26:00       3.39     17850.0  United Kingdom  "
      ]
     },
     "execution_count": 4,
     "metadata": {},
     "output_type": "execute_result"
    }
   ],
   "source": [
    "df.head(2)"
   ]
  },
  {
   "cell_type": "markdown",
   "id": "16a06485",
   "metadata": {},
   "source": [
    "Our table's first five rows provide enough information about the dataset's structure and datatypes. It is evident that timeseries data, integer and floating-point data, as well as categorical and text data, will all be observed."
   ]
  },
  {
   "cell_type": "markdown",
   "id": "f3ee7567",
   "metadata": {},
   "source": [
    "# Exploratory data analysis(EDA)"
   ]
  },
  {
   "cell_type": "code",
   "execution_count": 5,
   "id": "04387e47",
   "metadata": {},
   "outputs": [
    {
     "data": {
      "text/html": [
       "<div>\n",
       "<style scoped>\n",
       "    .dataframe tbody tr th:only-of-type {\n",
       "        vertical-align: middle;\n",
       "    }\n",
       "\n",
       "    .dataframe tbody tr th {\n",
       "        vertical-align: top;\n",
       "    }\n",
       "\n",
       "    .dataframe thead th {\n",
       "        text-align: right;\n",
       "    }\n",
       "</style>\n",
       "<table border=\"1\" class=\"dataframe\">\n",
       "  <thead>\n",
       "    <tr style=\"text-align: right;\">\n",
       "      <th></th>\n",
       "      <th>Quantity</th>\n",
       "      <th>UnitPrice</th>\n",
       "      <th>CustomerID</th>\n",
       "    </tr>\n",
       "  </thead>\n",
       "  <tbody>\n",
       "    <tr>\n",
       "      <th>count</th>\n",
       "      <td>541909.000000</td>\n",
       "      <td>541909.000000</td>\n",
       "      <td>406829.000000</td>\n",
       "    </tr>\n",
       "    <tr>\n",
       "      <th>mean</th>\n",
       "      <td>9.552250</td>\n",
       "      <td>4.611114</td>\n",
       "      <td>15287.690570</td>\n",
       "    </tr>\n",
       "    <tr>\n",
       "      <th>std</th>\n",
       "      <td>218.081158</td>\n",
       "      <td>96.759853</td>\n",
       "      <td>1713.600303</td>\n",
       "    </tr>\n",
       "    <tr>\n",
       "      <th>min</th>\n",
       "      <td>-80995.000000</td>\n",
       "      <td>-11062.060000</td>\n",
       "      <td>12346.000000</td>\n",
       "    </tr>\n",
       "    <tr>\n",
       "      <th>25%</th>\n",
       "      <td>1.000000</td>\n",
       "      <td>1.250000</td>\n",
       "      <td>13953.000000</td>\n",
       "    </tr>\n",
       "    <tr>\n",
       "      <th>50%</th>\n",
       "      <td>3.000000</td>\n",
       "      <td>2.080000</td>\n",
       "      <td>15152.000000</td>\n",
       "    </tr>\n",
       "    <tr>\n",
       "      <th>75%</th>\n",
       "      <td>10.000000</td>\n",
       "      <td>4.130000</td>\n",
       "      <td>16791.000000</td>\n",
       "    </tr>\n",
       "    <tr>\n",
       "      <th>max</th>\n",
       "      <td>80995.000000</td>\n",
       "      <td>38970.000000</td>\n",
       "      <td>18287.000000</td>\n",
       "    </tr>\n",
       "  </tbody>\n",
       "</table>\n",
       "</div>"
      ],
      "text/plain": [
       "            Quantity      UnitPrice     CustomerID\n",
       "count  541909.000000  541909.000000  406829.000000\n",
       "mean        9.552250       4.611114   15287.690570\n",
       "std       218.081158      96.759853    1713.600303\n",
       "min    -80995.000000  -11062.060000   12346.000000\n",
       "25%         1.000000       1.250000   13953.000000\n",
       "50%         3.000000       2.080000   15152.000000\n",
       "75%        10.000000       4.130000   16791.000000\n",
       "max     80995.000000   38970.000000   18287.000000"
      ]
     },
     "execution_count": 5,
     "metadata": {},
     "output_type": "execute_result"
    }
   ],
   "source": [
    "df.describe()"
   ]
  },
  {
   "cell_type": "code",
   "execution_count": 6,
   "id": "91658ae5",
   "metadata": {},
   "outputs": [
    {
     "data": {
      "text/plain": [
       "Invoice_No             object\n",
       "StockCode              object\n",
       "Description            object\n",
       "Quantity                int64\n",
       "InvoiceDate    datetime64[ns]\n",
       "UnitPrice             float64\n",
       "CustomerID            float64\n",
       "Country                object\n",
       "dtype: object"
      ]
     },
     "execution_count": 6,
     "metadata": {},
     "output_type": "execute_result"
    }
   ],
   "source": [
    "df.dtypes"
   ]
  },
  {
   "cell_type": "markdown",
   "id": "23bf0ad6",
   "metadata": {},
   "source": [
    "Take a brief glance at the data using.The describe() method provides lots of space for thought. We see negative quantities and prices, the fact that not all records contain CustomerID information, the fact that most transactions involve quantities of three to ten items, the fact that most goods have costs up to five pounds, and the fact that there are many really large outliers that will require further attention."
   ]
  },
  {
   "cell_type": "code",
   "execution_count": 6,
   "id": "949534c2",
   "metadata": {},
   "outputs": [],
   "source": [
    "df['InvoiceDate'] = pd.to_datetime(df['InvoiceDate'])\n",
    "df = df.set_index('InvoiceDate')"
   ]
  },
  {
   "cell_type": "code",
   "execution_count": 7,
   "id": "a375dc48",
   "metadata": {},
   "outputs": [
    {
     "data": {
      "text/plain": [
       "Invoice_No          0\n",
       "StockCode           0\n",
       "Description      1454\n",
       "Quantity            0\n",
       "UnitPrice           0\n",
       "CustomerID     135080\n",
       "Country             0\n",
       "dtype: int64"
      ]
     },
     "execution_count": 7,
     "metadata": {},
     "output_type": "execute_result"
    }
   ],
   "source": [
    "df.isnull().sum()"
   ]
  },
  {
   "cell_type": "markdown",
   "id": "a0eb08e2",
   "metadata": {},
   "source": [
    "CustomerID has too much null values and this feature cannot predict a lot so we can just drop it. "
   ]
  },
  {
   "cell_type": "code",
   "execution_count": 8,
   "id": "b4f6c37e",
   "metadata": {},
   "outputs": [],
   "source": [
    "df = df.drop(columns=['CustomerID'])"
   ]
  },
  {
   "cell_type": "markdown",
   "id": "74444f68",
   "metadata": {},
   "source": [
    "Let's check out what kind of nulls we have in Description"
   ]
  },
  {
   "cell_type": "code",
   "execution_count": 9,
   "id": "a7adb347",
   "metadata": {},
   "outputs": [
    {
     "data": {
      "text/html": [
       "<div>\n",
       "<style scoped>\n",
       "    .dataframe tbody tr th:only-of-type {\n",
       "        vertical-align: middle;\n",
       "    }\n",
       "\n",
       "    .dataframe tbody tr th {\n",
       "        vertical-align: top;\n",
       "    }\n",
       "\n",
       "    .dataframe thead th {\n",
       "        text-align: right;\n",
       "    }\n",
       "</style>\n",
       "<table border=\"1\" class=\"dataframe\">\n",
       "  <thead>\n",
       "    <tr style=\"text-align: right;\">\n",
       "      <th></th>\n",
       "      <th>Invoice_No</th>\n",
       "      <th>StockCode</th>\n",
       "      <th>Description</th>\n",
       "      <th>Quantity</th>\n",
       "      <th>UnitPrice</th>\n",
       "      <th>Country</th>\n",
       "    </tr>\n",
       "    <tr>\n",
       "      <th>InvoiceDate</th>\n",
       "      <th></th>\n",
       "      <th></th>\n",
       "      <th></th>\n",
       "      <th></th>\n",
       "      <th></th>\n",
       "      <th></th>\n",
       "    </tr>\n",
       "  </thead>\n",
       "  <tbody>\n",
       "    <tr>\n",
       "      <th>2010-12-01 11:52:00</th>\n",
       "      <td>536414</td>\n",
       "      <td>22139</td>\n",
       "      <td>NaN</td>\n",
       "      <td>56</td>\n",
       "      <td>0.0</td>\n",
       "      <td>United Kingdom</td>\n",
       "    </tr>\n",
       "    <tr>\n",
       "      <th>2010-12-01 14:32:00</th>\n",
       "      <td>536545</td>\n",
       "      <td>21134</td>\n",
       "      <td>NaN</td>\n",
       "      <td>1</td>\n",
       "      <td>0.0</td>\n",
       "      <td>United Kingdom</td>\n",
       "    </tr>\n",
       "    <tr>\n",
       "      <th>2010-12-01 14:33:00</th>\n",
       "      <td>536546</td>\n",
       "      <td>22145</td>\n",
       "      <td>NaN</td>\n",
       "      <td>1</td>\n",
       "      <td>0.0</td>\n",
       "      <td>United Kingdom</td>\n",
       "    </tr>\n",
       "    <tr>\n",
       "      <th>2010-12-01 14:33:00</th>\n",
       "      <td>536547</td>\n",
       "      <td>37509</td>\n",
       "      <td>NaN</td>\n",
       "      <td>1</td>\n",
       "      <td>0.0</td>\n",
       "      <td>United Kingdom</td>\n",
       "    </tr>\n",
       "    <tr>\n",
       "      <th>2010-12-01 14:34:00</th>\n",
       "      <td>536549</td>\n",
       "      <td>85226A</td>\n",
       "      <td>NaN</td>\n",
       "      <td>1</td>\n",
       "      <td>0.0</td>\n",
       "      <td>United Kingdom</td>\n",
       "    </tr>\n",
       "  </tbody>\n",
       "</table>\n",
       "</div>"
      ],
      "text/plain": [
       "                    Invoice_No StockCode Description  Quantity  UnitPrice  \\\n",
       "InvoiceDate                                                                 \n",
       "2010-12-01 11:52:00     536414     22139         NaN        56        0.0   \n",
       "2010-12-01 14:32:00     536545     21134         NaN         1        0.0   \n",
       "2010-12-01 14:33:00     536546     22145         NaN         1        0.0   \n",
       "2010-12-01 14:33:00     536547     37509         NaN         1        0.0   \n",
       "2010-12-01 14:34:00     536549    85226A         NaN         1        0.0   \n",
       "\n",
       "                            Country  \n",
       "InvoiceDate                          \n",
       "2010-12-01 11:52:00  United Kingdom  \n",
       "2010-12-01 14:32:00  United Kingdom  \n",
       "2010-12-01 14:33:00  United Kingdom  \n",
       "2010-12-01 14:33:00  United Kingdom  \n",
       "2010-12-01 14:34:00  United Kingdom  "
      ]
     },
     "execution_count": 9,
     "metadata": {},
     "output_type": "execute_result"
    }
   ],
   "source": [
    "df[df['Description'].isnull()].head()"
   ]
  },
  {
   "cell_type": "markdown",
   "id": "ec200e01",
   "metadata": {},
   "source": [
    "Since UnitPrice is 0, these orders do not result in any sales, which makes the data in these rows somewhat odd. I believe we can deal with those later on in the analysis and just impute it with \"UNKNOWN ITEM\" for the time being."
   ]
  },
  {
   "cell_type": "code",
   "execution_count": 10,
   "id": "d2dc2291",
   "metadata": {},
   "outputs": [
    {
     "data": {
      "text/plain": [
       "Invoice_No     0\n",
       "StockCode      0\n",
       "Description    0\n",
       "Quantity       0\n",
       "UnitPrice      0\n",
       "Country        0\n",
       "dtype: int64"
      ]
     },
     "execution_count": 10,
     "metadata": {},
     "output_type": "execute_result"
    }
   ],
   "source": [
    "df['Description'] = df['Description'].fillna('UNKNOWN ITEM')\n",
    "df.isnull().sum()"
   ]
  },
  {
   "cell_type": "markdown",
   "id": "1717f7cd",
   "metadata": {},
   "source": [
    "# Checking out columns separately\n",
    "\n",
    "Additionally, it makes sense to examine each feature individually, look for any problems with our data, and gain a deeper understanding of our statistics.\n",
    "\n",
    "Let's keep looking at the Description column. The most popular products are displayed here."
   ]
  },
  {
   "cell_type": "code",
   "execution_count": 11,
   "id": "86bf1419",
   "metadata": {},
   "outputs": [
    {
     "data": {
      "text/plain": [
       "WHITE HANGING HEART T-LIGHT HOLDER    2369\n",
       "REGENCY CAKESTAND 3 TIER              2200\n",
       "JUMBO BAG RED RETROSPOT               2159\n",
       "PARTY BUNTING                         1727\n",
       "LUNCH BAG RED RETROSPOT               1638\n",
       "Name: Description, dtype: int64"
      ]
     },
     "execution_count": 11,
     "metadata": {},
     "output_type": "execute_result"
    }
   ],
   "source": [
    "df['Description'].value_counts().head()"
   ]
  },
  {
   "cell_type": "code",
   "execution_count": 12,
   "id": "43c49aa4",
   "metadata": {
    "scrolled": true
   },
   "outputs": [
    {
     "data": {
      "image/png": "[encoded data removed]",
      "text/plain": [
       "<Figure size 1296x432 with 1 Axes>"
      ]
     },
     "metadata": {
      "needs_background": "light"
     },
     "output_type": "display_data"
    }
   ],
   "source": [
    "item_counts = df['Description'].value_counts().sort_values(ascending=False).iloc[0:15]\n",
    "plt.figure(figsize=(18,6))\n",
    "sns.barplot(item_counts.index, item_counts.values, palette=sns.cubehelix_palette(15))\n",
    "plt.ylabel(\"Counts\")\n",
    "plt.title(\"Which items were bought more often?\");\n",
    "plt.xticks(rotation=90);\n"
   ]
  },
  {
   "cell_type": "code",
   "execution_count": 15,
   "id": "446c09cb",
   "metadata": {},
   "outputs": [
    {
     "data": {
      "text/plain": [
       "Missing                                1\n",
       "historic computer difference?....se    1\n",
       "DUSTY PINK CHRISTMAS TREE 30CM         1\n",
       "WRAP BLUE RUSSIAN FOLKART              1\n",
       "PINK BERTIE MOBILE PHONE CHARM         1\n",
       "Name: Description, dtype: int64"
      ]
     },
     "execution_count": 15,
     "metadata": {},
     "output_type": "execute_result"
    }
   ],
   "source": [
    "df['Description'].value_counts().tail()"
   ]
  },
  {
   "cell_type": "markdown",
   "id": "31efdc58",
   "metadata": {},
   "source": [
    "Additionally, the code above shows that generally, valid things are capitalized, whereas non-valid or cancelled items are written in lower case."
   ]
  },
  {
   "cell_type": "code",
   "execution_count": 16,
   "id": "fbf6cd4f",
   "metadata": {
    "scrolled": true
   },
   "outputs": [
    {
     "data": {
      "image/png": "[encoded data removed]",
      "text/plain": [
       "<Figure size 1296x432 with 1 Axes>"
      ]
     },
     "metadata": {
      "needs_background": "light"
     },
     "output_type": "display_data"
    }
   ],
   "source": [
    "stock_counts = df['StockCode'].value_counts().sort_values(ascending=False).iloc[0:15]\n",
    "plt.figure(figsize=(18,6))\n",
    "sns.barplot(stock_counts.index, stock_counts.values, palette=sns.color_palette(\"GnBu_d\"))\n",
    "plt.ylabel(\"Counts\")\n",
    "plt.title(\"Which stock codes were used the most?\");\n",
    "plt.xticks(rotation=90);"
   ]
  },
  {
   "cell_type": "markdown",
   "id": "d80e3b5f",
   "metadata": {},
   "source": [
    "# Checking out also Invoice_No feature"
   ]
  },
  {
   "cell_type": "code",
   "execution_count": 17,
   "id": "39a71ea0",
   "metadata": {},
   "outputs": [
    {
     "data": {
      "text/plain": [
       "554023     1\n",
       "554022     1\n",
       "554021     1\n",
       "554020     1\n",
       "C558901    1\n",
       "Name: Invoice_No, dtype: int64"
      ]
     },
     "execution_count": 17,
     "metadata": {},
     "output_type": "execute_result"
    }
   ],
   "source": [
    "df['Invoice_No'].value_counts().tail()"
   ]
  },
  {
   "cell_type": "code",
   "execution_count": 18,
   "id": "153c1623",
   "metadata": {},
   "outputs": [
    {
     "data": {
      "image/png": "[encoded data removed]",
      "text/plain": [
       "<Figure size 1296x432 with 1 Axes>"
      ]
     },
     "metadata": {
      "needs_background": "light"
     },
     "output_type": "display_data"
    }
   ],
   "source": [
    "inv_counts = df['Invoice_No'].value_counts().sort_values(ascending=False).iloc[0:15]\n",
    "plt.figure(figsize=(18,6))\n",
    "sns.barplot(inv_counts.index, inv_counts.values, palette=sns.color_palette(\"BuGn_d\"))\n",
    "plt.ylabel(\"Counts\")\n",
    "plt.title(\"Which invoices had the most items?\");\n",
    "plt.xticks(rotation=90);"
   ]
  },
  {
   "cell_type": "markdown",
   "id": "0338ae93",
   "metadata": {},
   "source": [
    "We can perform the same operations and checks again during exploratory data analysis to see how our activities changed the dataset. The set of recurring procedures known as EDA helps us better understand our data. For instance, we return to here.describe() technique to obtain, following certain changes, a general overview of our data.\n",
    "\n",
    "Let's examine those records where negative quantities and prices are still seen.\n"
   ]
  },
  {
   "cell_type": "code",
   "execution_count": 19,
   "id": "f2fd1a19",
   "metadata": {},
   "outputs": [
    {
     "data": {
      "text/html": [
       "<div>\n",
       "<style scoped>\n",
       "    .dataframe tbody tr th:only-of-type {\n",
       "        vertical-align: middle;\n",
       "    }\n",
       "\n",
       "    .dataframe tbody tr th {\n",
       "        vertical-align: top;\n",
       "    }\n",
       "\n",
       "    .dataframe thead th {\n",
       "        text-align: right;\n",
       "    }\n",
       "</style>\n",
       "<table border=\"1\" class=\"dataframe\">\n",
       "  <thead>\n",
       "    <tr style=\"text-align: right;\">\n",
       "      <th></th>\n",
       "      <th>Invoice_No</th>\n",
       "      <th>StockCode</th>\n",
       "      <th>Description</th>\n",
       "      <th>Quantity</th>\n",
       "      <th>UnitPrice</th>\n",
       "      <th>Country</th>\n",
       "    </tr>\n",
       "    <tr>\n",
       "      <th>InvoiceDate</th>\n",
       "      <th></th>\n",
       "      <th></th>\n",
       "      <th></th>\n",
       "      <th></th>\n",
       "      <th></th>\n",
       "      <th></th>\n",
       "    </tr>\n",
       "  </thead>\n",
       "  <tbody>\n",
       "    <tr>\n",
       "      <th>2010-12-01 09:41:00</th>\n",
       "      <td>C536379</td>\n",
       "      <td>D</td>\n",
       "      <td>Discount</td>\n",
       "      <td>-1</td>\n",
       "      <td>27.50</td>\n",
       "      <td>United Kingdom</td>\n",
       "    </tr>\n",
       "    <tr>\n",
       "      <th>2010-12-01 09:49:00</th>\n",
       "      <td>C536383</td>\n",
       "      <td>35004C</td>\n",
       "      <td>SET OF 3 COLOURED  FLYING DUCKS</td>\n",
       "      <td>-1</td>\n",
       "      <td>4.65</td>\n",
       "      <td>United Kingdom</td>\n",
       "    </tr>\n",
       "    <tr>\n",
       "      <th>2010-12-01 10:24:00</th>\n",
       "      <td>C536391</td>\n",
       "      <td>22556</td>\n",
       "      <td>PLASTERS IN TIN CIRCUS PARADE</td>\n",
       "      <td>-12</td>\n",
       "      <td>1.65</td>\n",
       "      <td>United Kingdom</td>\n",
       "    </tr>\n",
       "    <tr>\n",
       "      <th>2010-12-01 10:24:00</th>\n",
       "      <td>C536391</td>\n",
       "      <td>21984</td>\n",
       "      <td>PACK OF 12 PINK PAISLEY TISSUES</td>\n",
       "      <td>-24</td>\n",
       "      <td>0.29</td>\n",
       "      <td>United Kingdom</td>\n",
       "    </tr>\n",
       "    <tr>\n",
       "      <th>2010-12-01 10:24:00</th>\n",
       "      <td>C536391</td>\n",
       "      <td>21983</td>\n",
       "      <td>PACK OF 12 BLUE PAISLEY TISSUES</td>\n",
       "      <td>-24</td>\n",
       "      <td>0.29</td>\n",
       "      <td>United Kingdom</td>\n",
       "    </tr>\n",
       "  </tbody>\n",
       "</table>\n",
       "</div>"
      ],
      "text/plain": [
       "                    Invoice_No StockCode                       Description  \\\n",
       "InvoiceDate                                                                  \n",
       "2010-12-01 09:41:00    C536379         D                          Discount   \n",
       "2010-12-01 09:49:00    C536383    35004C   SET OF 3 COLOURED  FLYING DUCKS   \n",
       "2010-12-01 10:24:00    C536391     22556    PLASTERS IN TIN CIRCUS PARADE    \n",
       "2010-12-01 10:24:00    C536391     21984  PACK OF 12 PINK PAISLEY TISSUES    \n",
       "2010-12-01 10:24:00    C536391     21983  PACK OF 12 BLUE PAISLEY TISSUES    \n",
       "\n",
       "                     Quantity  UnitPrice         Country  \n",
       "InvoiceDate                                               \n",
       "2010-12-01 09:41:00        -1      27.50  United Kingdom  \n",
       "2010-12-01 09:49:00        -1       4.65  United Kingdom  \n",
       "2010-12-01 10:24:00       -12       1.65  United Kingdom  \n",
       "2010-12-01 10:24:00       -24       0.29  United Kingdom  \n",
       "2010-12-01 10:24:00       -24       0.29  United Kingdom  "
      ]
     },
     "execution_count": 19,
     "metadata": {},
     "output_type": "execute_result"
    }
   ],
   "source": [
    "df[df['Quantity'] < 0].head()"
   ]
  },
  {
   "cell_type": "markdown",
   "id": "fb7eac87",
   "metadata": {},
   "source": [
    "Other \"Negative quantities\" appear to be missing, damaged, or unknown goods, as may be seen here. Once more, we will merely disregard them to keep the analysis for this project as simple as possible."
   ]
  },
  {
   "cell_type": "code",
   "execution_count": 20,
   "id": "d4310b01",
   "metadata": {},
   "outputs": [
    {
     "data": {
      "text/html": [
       "<div>\n",
       "<style scoped>\n",
       "    .dataframe tbody tr th:only-of-type {\n",
       "        vertical-align: middle;\n",
       "    }\n",
       "\n",
       "    .dataframe tbody tr th {\n",
       "        vertical-align: top;\n",
       "    }\n",
       "\n",
       "    .dataframe thead th {\n",
       "        text-align: right;\n",
       "    }\n",
       "</style>\n",
       "<table border=\"1\" class=\"dataframe\">\n",
       "  <thead>\n",
       "    <tr style=\"text-align: right;\">\n",
       "      <th></th>\n",
       "      <th>Quantity</th>\n",
       "      <th>UnitPrice</th>\n",
       "    </tr>\n",
       "  </thead>\n",
       "  <tbody>\n",
       "    <tr>\n",
       "      <th>count</th>\n",
       "      <td>531285.000000</td>\n",
       "      <td>531285.000000</td>\n",
       "    </tr>\n",
       "    <tr>\n",
       "      <th>mean</th>\n",
       "      <td>10.655262</td>\n",
       "      <td>3.857296</td>\n",
       "    </tr>\n",
       "    <tr>\n",
       "      <th>std</th>\n",
       "      <td>156.830323</td>\n",
       "      <td>41.810047</td>\n",
       "    </tr>\n",
       "    <tr>\n",
       "      <th>min</th>\n",
       "      <td>1.000000</td>\n",
       "      <td>-11062.060000</td>\n",
       "    </tr>\n",
       "    <tr>\n",
       "      <th>25%</th>\n",
       "      <td>1.000000</td>\n",
       "      <td>1.250000</td>\n",
       "    </tr>\n",
       "    <tr>\n",
       "      <th>50%</th>\n",
       "      <td>3.000000</td>\n",
       "      <td>2.080000</td>\n",
       "    </tr>\n",
       "    <tr>\n",
       "      <th>75%</th>\n",
       "      <td>10.000000</td>\n",
       "      <td>4.130000</td>\n",
       "    </tr>\n",
       "    <tr>\n",
       "      <th>max</th>\n",
       "      <td>80995.000000</td>\n",
       "      <td>13541.330000</td>\n",
       "    </tr>\n",
       "  </tbody>\n",
       "</table>\n",
       "</div>"
      ],
      "text/plain": [
       "            Quantity      UnitPrice\n",
       "count  531285.000000  531285.000000\n",
       "mean       10.655262       3.857296\n",
       "std       156.830323      41.810047\n",
       "min         1.000000  -11062.060000\n",
       "25%         1.000000       1.250000\n",
       "50%         3.000000       2.080000\n",
       "75%        10.000000       4.130000\n",
       "max     80995.000000   13541.330000"
      ]
     },
     "execution_count": 20,
     "metadata": {},
     "output_type": "execute_result"
    }
   ],
   "source": [
    "df = df[df['Quantity'] > 0]\n",
    "df.describe()"
   ]
  },
  {
   "cell_type": "markdown",
   "id": "2ac51fb6",
   "metadata": {},
   "source": [
    "Additionally, we observe negative UnitPrice, which is also abnormal. Let's investigate this."
   ]
  },
  {
   "cell_type": "code",
   "execution_count": 21,
   "id": "cf2c83f1",
   "metadata": {},
   "outputs": [
    {
     "data": {
      "text/html": [
       "<div>\n",
       "<style scoped>\n",
       "    .dataframe tbody tr th:only-of-type {\n",
       "        vertical-align: middle;\n",
       "    }\n",
       "\n",
       "    .dataframe tbody tr th {\n",
       "        vertical-align: top;\n",
       "    }\n",
       "\n",
       "    .dataframe thead th {\n",
       "        text-align: right;\n",
       "    }\n",
       "</style>\n",
       "<table border=\"1\" class=\"dataframe\">\n",
       "  <thead>\n",
       "    <tr style=\"text-align: right;\">\n",
       "      <th></th>\n",
       "      <th>Quantity</th>\n",
       "      <th>UnitPrice</th>\n",
       "    </tr>\n",
       "  </thead>\n",
       "  <tbody>\n",
       "    <tr>\n",
       "      <th>count</th>\n",
       "      <td>2.0</td>\n",
       "      <td>2.00</td>\n",
       "    </tr>\n",
       "    <tr>\n",
       "      <th>mean</th>\n",
       "      <td>1.0</td>\n",
       "      <td>-11062.06</td>\n",
       "    </tr>\n",
       "    <tr>\n",
       "      <th>std</th>\n",
       "      <td>0.0</td>\n",
       "      <td>0.00</td>\n",
       "    </tr>\n",
       "    <tr>\n",
       "      <th>min</th>\n",
       "      <td>1.0</td>\n",
       "      <td>-11062.06</td>\n",
       "    </tr>\n",
       "    <tr>\n",
       "      <th>25%</th>\n",
       "      <td>1.0</td>\n",
       "      <td>-11062.06</td>\n",
       "    </tr>\n",
       "    <tr>\n",
       "      <th>50%</th>\n",
       "      <td>1.0</td>\n",
       "      <td>-11062.06</td>\n",
       "    </tr>\n",
       "    <tr>\n",
       "      <th>75%</th>\n",
       "      <td>1.0</td>\n",
       "      <td>-11062.06</td>\n",
       "    </tr>\n",
       "    <tr>\n",
       "      <th>max</th>\n",
       "      <td>1.0</td>\n",
       "      <td>-11062.06</td>\n",
       "    </tr>\n",
       "  </tbody>\n",
       "</table>\n",
       "</div>"
      ],
      "text/plain": [
       "       Quantity  UnitPrice\n",
       "count       2.0       2.00\n",
       "mean        1.0  -11062.06\n",
       "std         0.0       0.00\n",
       "min         1.0  -11062.06\n",
       "25%         1.0  -11062.06\n",
       "50%         1.0  -11062.06\n",
       "75%         1.0  -11062.06\n",
       "max         1.0  -11062.06"
      ]
     },
     "execution_count": 21,
     "metadata": {},
     "output_type": "execute_result"
    }
   ],
   "source": [
    "df[df['UnitPrice'] < 0].describe()"
   ]
  },
  {
   "cell_type": "code",
   "execution_count": 22,
   "id": "aa862dfb",
   "metadata": {},
   "outputs": [
    {
     "data": {
      "text/html": [
       "<div>\n",
       "<style scoped>\n",
       "    .dataframe tbody tr th:only-of-type {\n",
       "        vertical-align: middle;\n",
       "    }\n",
       "\n",
       "    .dataframe tbody tr th {\n",
       "        vertical-align: top;\n",
       "    }\n",
       "\n",
       "    .dataframe thead th {\n",
       "        text-align: right;\n",
       "    }\n",
       "</style>\n",
       "<table border=\"1\" class=\"dataframe\">\n",
       "  <thead>\n",
       "    <tr style=\"text-align: right;\">\n",
       "      <th></th>\n",
       "      <th>Invoice_No</th>\n",
       "      <th>StockCode</th>\n",
       "      <th>Description</th>\n",
       "      <th>Quantity</th>\n",
       "      <th>UnitPrice</th>\n",
       "      <th>Country</th>\n",
       "    </tr>\n",
       "    <tr>\n",
       "      <th>InvoiceDate</th>\n",
       "      <th></th>\n",
       "      <th></th>\n",
       "      <th></th>\n",
       "      <th></th>\n",
       "      <th></th>\n",
       "      <th></th>\n",
       "    </tr>\n",
       "  </thead>\n",
       "  <tbody>\n",
       "    <tr>\n",
       "      <th>2011-08-12 14:51:00</th>\n",
       "      <td>A563186</td>\n",
       "      <td>B</td>\n",
       "      <td>Adjust bad debt</td>\n",
       "      <td>1</td>\n",
       "      <td>-11062.06</td>\n",
       "      <td>United Kingdom</td>\n",
       "    </tr>\n",
       "    <tr>\n",
       "      <th>2011-08-12 14:52:00</th>\n",
       "      <td>A563187</td>\n",
       "      <td>B</td>\n",
       "      <td>Adjust bad debt</td>\n",
       "      <td>1</td>\n",
       "      <td>-11062.06</td>\n",
       "      <td>United Kingdom</td>\n",
       "    </tr>\n",
       "  </tbody>\n",
       "</table>\n",
       "</div>"
      ],
      "text/plain": [
       "                    Invoice_No StockCode      Description  Quantity  \\\n",
       "InvoiceDate                                                           \n",
       "2011-08-12 14:51:00    A563186         B  Adjust bad debt         1   \n",
       "2011-08-12 14:52:00    A563187         B  Adjust bad debt         1   \n",
       "\n",
       "                     UnitPrice         Country  \n",
       "InvoiceDate                                     \n",
       "2011-08-12 14:51:00  -11062.06  United Kingdom  \n",
       "2011-08-12 14:52:00  -11062.06  United Kingdom  "
      ]
     },
     "execution_count": 22,
     "metadata": {},
     "output_type": "execute_result"
    }
   ],
   "source": [
    "df[df['UnitPrice'] == -11062.06]"
   ]
  },
  {
   "cell_type": "markdown",
   "id": "143668f2",
   "metadata": {},
   "source": [
    "Since there are only two rows, let's overlook them for the time being (the explanation provides enough background, but additional warnings are still needed to fully grasp it)."
   ]
  },
  {
   "cell_type": "code",
   "execution_count": 23,
   "id": "7156cc5c",
   "metadata": {},
   "outputs": [
    {
     "data": {
      "text/html": [
       "<div>\n",
       "<style scoped>\n",
       "    .dataframe tbody tr th:only-of-type {\n",
       "        vertical-align: middle;\n",
       "    }\n",
       "\n",
       "    .dataframe tbody tr th {\n",
       "        vertical-align: top;\n",
       "    }\n",
       "\n",
       "    .dataframe thead th {\n",
       "        text-align: right;\n",
       "    }\n",
       "</style>\n",
       "<table border=\"1\" class=\"dataframe\">\n",
       "  <thead>\n",
       "    <tr style=\"text-align: right;\">\n",
       "      <th></th>\n",
       "      <th>Quantity</th>\n",
       "      <th>UnitPrice</th>\n",
       "    </tr>\n",
       "  </thead>\n",
       "  <tbody>\n",
       "    <tr>\n",
       "      <th>count</th>\n",
       "      <td>530104.000000</td>\n",
       "      <td>530104.000000</td>\n",
       "    </tr>\n",
       "    <tr>\n",
       "      <th>mean</th>\n",
       "      <td>10.542037</td>\n",
       "      <td>3.907625</td>\n",
       "    </tr>\n",
       "    <tr>\n",
       "      <th>std</th>\n",
       "      <td>155.524124</td>\n",
       "      <td>35.915681</td>\n",
       "    </tr>\n",
       "    <tr>\n",
       "      <th>min</th>\n",
       "      <td>1.000000</td>\n",
       "      <td>0.001000</td>\n",
       "    </tr>\n",
       "    <tr>\n",
       "      <th>25%</th>\n",
       "      <td>1.000000</td>\n",
       "      <td>1.250000</td>\n",
       "    </tr>\n",
       "    <tr>\n",
       "      <th>50%</th>\n",
       "      <td>3.000000</td>\n",
       "      <td>2.080000</td>\n",
       "    </tr>\n",
       "    <tr>\n",
       "      <th>75%</th>\n",
       "      <td>10.000000</td>\n",
       "      <td>4.130000</td>\n",
       "    </tr>\n",
       "    <tr>\n",
       "      <th>max</th>\n",
       "      <td>80995.000000</td>\n",
       "      <td>13541.330000</td>\n",
       "    </tr>\n",
       "  </tbody>\n",
       "</table>\n",
       "</div>"
      ],
      "text/plain": [
       "            Quantity      UnitPrice\n",
       "count  530104.000000  530104.000000\n",
       "mean       10.542037       3.907625\n",
       "std       155.524124      35.915681\n",
       "min         1.000000       0.001000\n",
       "25%         1.000000       1.250000\n",
       "50%         3.000000       2.080000\n",
       "75%        10.000000       4.130000\n",
       "max     80995.000000   13541.330000"
      ]
     },
     "execution_count": 23,
     "metadata": {},
     "output_type": "execute_result"
    }
   ],
   "source": [
    "df = df[df['UnitPrice'] > 0]\n",
    "df.describe()"
   ]
  },
  {
   "cell_type": "markdown",
   "id": "7aee13fe",
   "metadata": {},
   "source": [
    "We can now begin developing some new features for our model since we have completed cleansing our data and eliminated any questionable records. First, let's address the most apparent: sales. We are able to compute the revenue since we have pricing and quantities."
   ]
  },
  {
   "cell_type": "code",
   "execution_count": 24,
   "id": "0688f1ed",
   "metadata": {},
   "outputs": [
    {
     "data": {
      "text/html": [
       "<div>\n",
       "<style scoped>\n",
       "    .dataframe tbody tr th:only-of-type {\n",
       "        vertical-align: middle;\n",
       "    }\n",
       "\n",
       "    .dataframe tbody tr th {\n",
       "        vertical-align: top;\n",
       "    }\n",
       "\n",
       "    .dataframe thead th {\n",
       "        text-align: right;\n",
       "    }\n",
       "</style>\n",
       "<table border=\"1\" class=\"dataframe\">\n",
       "  <thead>\n",
       "    <tr style=\"text-align: right;\">\n",
       "      <th></th>\n",
       "      <th>Invoice_No</th>\n",
       "      <th>StockCode</th>\n",
       "      <th>Description</th>\n",
       "      <th>Quantity</th>\n",
       "      <th>UnitPrice</th>\n",
       "      <th>Country</th>\n",
       "      <th>Sales</th>\n",
       "    </tr>\n",
       "    <tr>\n",
       "      <th>InvoiceDate</th>\n",
       "      <th></th>\n",
       "      <th></th>\n",
       "      <th></th>\n",
       "      <th></th>\n",
       "      <th></th>\n",
       "      <th></th>\n",
       "      <th></th>\n",
       "    </tr>\n",
       "  </thead>\n",
       "  <tbody>\n",
       "    <tr>\n",
       "      <th>2010-12-01 08:26:00</th>\n",
       "      <td>536365</td>\n",
       "      <td>85123A</td>\n",
       "      <td>WHITE HANGING HEART T-LIGHT HOLDER</td>\n",
       "      <td>6</td>\n",
       "      <td>2.55</td>\n",
       "      <td>United Kingdom</td>\n",
       "      <td>15.30</td>\n",
       "    </tr>\n",
       "    <tr>\n",
       "      <th>2010-12-01 08:26:00</th>\n",
       "      <td>536365</td>\n",
       "      <td>71053</td>\n",
       "      <td>WHITE METAL LANTERN</td>\n",
       "      <td>6</td>\n",
       "      <td>3.39</td>\n",
       "      <td>United Kingdom</td>\n",
       "      <td>20.34</td>\n",
       "    </tr>\n",
       "    <tr>\n",
       "      <th>2010-12-01 08:26:00</th>\n",
       "      <td>536365</td>\n",
       "      <td>84406B</td>\n",
       "      <td>CREAM CUPID HEARTS COAT HANGER</td>\n",
       "      <td>8</td>\n",
       "      <td>2.75</td>\n",
       "      <td>United Kingdom</td>\n",
       "      <td>22.00</td>\n",
       "    </tr>\n",
       "    <tr>\n",
       "      <th>2010-12-01 08:26:00</th>\n",
       "      <td>536365</td>\n",
       "      <td>84029G</td>\n",
       "      <td>KNITTED UNION FLAG HOT WATER BOTTLE</td>\n",
       "      <td>6</td>\n",
       "      <td>3.39</td>\n",
       "      <td>United Kingdom</td>\n",
       "      <td>20.34</td>\n",
       "    </tr>\n",
       "    <tr>\n",
       "      <th>2010-12-01 08:26:00</th>\n",
       "      <td>536365</td>\n",
       "      <td>84029E</td>\n",
       "      <td>RED WOOLLY HOTTIE WHITE HEART.</td>\n",
       "      <td>6</td>\n",
       "      <td>3.39</td>\n",
       "      <td>United Kingdom</td>\n",
       "      <td>20.34</td>\n",
       "    </tr>\n",
       "  </tbody>\n",
       "</table>\n",
       "</div>"
      ],
      "text/plain": [
       "                    Invoice_No StockCode                          Description  \\\n",
       "InvoiceDate                                                                     \n",
       "2010-12-01 08:26:00     536365    85123A   WHITE HANGING HEART T-LIGHT HOLDER   \n",
       "2010-12-01 08:26:00     536365     71053                  WHITE METAL LANTERN   \n",
       "2010-12-01 08:26:00     536365    84406B       CREAM CUPID HEARTS COAT HANGER   \n",
       "2010-12-01 08:26:00     536365    84029G  KNITTED UNION FLAG HOT WATER BOTTLE   \n",
       "2010-12-01 08:26:00     536365    84029E       RED WOOLLY HOTTIE WHITE HEART.   \n",
       "\n",
       "                     Quantity  UnitPrice         Country  Sales  \n",
       "InvoiceDate                                                      \n",
       "2010-12-01 08:26:00         6       2.55  United Kingdom  15.30  \n",
       "2010-12-01 08:26:00         6       3.39  United Kingdom  20.34  \n",
       "2010-12-01 08:26:00         8       2.75  United Kingdom  22.00  \n",
       "2010-12-01 08:26:00         6       3.39  United Kingdom  20.34  \n",
       "2010-12-01 08:26:00         6       3.39  United Kingdom  20.34  "
      ]
     },
     "execution_count": 24,
     "metadata": {},
     "output_type": "execute_result"
    }
   ],
   "source": [
    "df['Sales'] = df['Quantity'] * df['UnitPrice']\n",
    "df.head()"
   ]
  },
  {
   "cell_type": "markdown",
   "id": "06ce6239",
   "metadata": {},
   "source": [
    "# Visual EDA"
   ]
  },
  {
   "cell_type": "code",
   "execution_count": 25,
   "id": "707d868c",
   "metadata": {},
   "outputs": [
    {
     "data": {
      "text/plain": [
       "(array([0]), [Text(0, 0, 'United Kingdom')])"
      ]
     },
     "execution_count": 25,
     "metadata": {},
     "output_type": "execute_result"
    },
    {
     "data": {
      "image/png": "[encoded data removed]",
      "text/plain": [
       "<Figure size 216x432 with 1 Axes>"
      ]
     },
     "metadata": {
      "needs_background": "light"
     },
     "output_type": "display_data"
    }
   ],
   "source": [
    "plt.figure(figsize=(3,6))\n",
    "sns.countplot(df[df['Country'] == 'United Kingdom']['Country'])\n",
    "plt.xticks(rotation=90)"
   ]
  },
  {
   "cell_type": "code",
   "execution_count": 26,
   "id": "8fa77bb8",
   "metadata": {},
   "outputs": [
    {
     "data": {
      "text/plain": [
       "(array([ 0,  1,  2,  3,  4,  5,  6,  7,  8,  9, 10, 11, 12, 13, 14, 15, 16,\n",
       "        17, 18, 19, 20, 21, 22, 23, 24, 25, 26, 27, 28, 29, 30, 31, 32, 33,\n",
       "        34, 35, 36]),\n",
       " [Text(0, 0, 'France'),\n",
       "  Text(1, 0, 'Australia'),\n",
       "  Text(2, 0, 'Netherlands'),\n",
       "  Text(3, 0, 'Germany'),\n",
       "  Text(4, 0, 'Norway'),\n",
       "  Text(5, 0, 'EIRE'),\n",
       "  Text(6, 0, 'Switzerland'),\n",
       "  Text(7, 0, 'Spain'),\n",
       "  Text(8, 0, 'Poland'),\n",
       "  Text(9, 0, 'Portugal'),\n",
       "  Text(10, 0, 'Italy'),\n",
       "  Text(11, 0, 'Belgium'),\n",
       "  Text(12, 0, 'Lithuania'),\n",
       "  Text(13, 0, 'Japan'),\n",
       "  Text(14, 0, 'Iceland'),\n",
       "  Text(15, 0, 'Channel Islands'),\n",
       "  Text(16, 0, 'Denmark'),\n",
       "  Text(17, 0, 'Cyprus'),\n",
       "  Text(18, 0, 'Sweden'),\n",
       "  Text(19, 0, 'Finland'),\n",
       "  Text(20, 0, 'Austria'),\n",
       "  Text(21, 0, 'Bahrain'),\n",
       "  Text(22, 0, 'Israel'),\n",
       "  Text(23, 0, 'Greece'),\n",
       "  Text(24, 0, 'Hong Kong'),\n",
       "  Text(25, 0, 'Singapore'),\n",
       "  Text(26, 0, 'Lebanon'),\n",
       "  Text(27, 0, 'United Arab Emirates'),\n",
       "  Text(28, 0, 'Saudi Arabia'),\n",
       "  Text(29, 0, 'Czech Republic'),\n",
       "  Text(30, 0, 'Canada'),\n",
       "  Text(31, 0, 'Unspecified'),\n",
       "  Text(32, 0, 'Brazil'),\n",
       "  Text(33, 0, 'USA'),\n",
       "  Text(34, 0, 'European Community'),\n",
       "  Text(35, 0, 'Malta'),\n",
       "  Text(36, 0, 'RSA')])"
      ]
     },
     "execution_count": 26,
     "metadata": {},
     "output_type": "execute_result"
    },
    {
     "data": {
      "image/png": "[encoded data removed]",
      "text/plain": [
       "<Figure size 1296x432 with 1 Axes>"
      ]
     },
     "metadata": {
      "needs_background": "light"
     },
     "output_type": "display_data"
    }
   ],
   "source": [
    "plt.figure(figsize=(18,6))\n",
    "sns.countplot(df[df['Country'] != 'United Kingdom']['Country'])\n",
    "plt.xticks(rotation=90)"
   ]
  },
  {
   "cell_type": "code",
   "execution_count": 27,
   "id": "b63b3905",
   "metadata": {},
   "outputs": [
    {
     "name": "stdout",
     "output_type": "stream",
     "text": [
      "91.51%\n"
     ]
    }
   ],
   "source": [
    "uk_count = df[df['Country'] == 'United Kingdom']['Country'].count()\n",
    "all_count = df['Country'].count()\n",
    "uk_perc = uk_count/all_count\n",
    "print(str('{0:.2f}%').format(uk_perc*100))"
   ]
  },
  {
   "cell_type": "markdown",
   "id": "3f5466ac",
   "metadata": {},
   "source": [
    "From above plots and calculations we can see that vast majority of sales were made in UK and just 8.49% went abroad. We can say our dataset is skewed to the UK side :D."
   ]
  },
  {
   "cell_type": "markdown",
   "id": "5916791b",
   "metadata": {},
   "source": [
    "# Detecting outliers\n",
    "\n",
    "A scatter plot, box plots, and the IQR are some of the techniques that can be used to identify outliers; this is one of those techniques. Furthermore, using a scatter plot to identify outliers is rather simple. Plotting your data allows you to exclude data points that are obviously outside of range. similar to the chart that follows.\n",
    "\n"
   ]
  },
  {
   "cell_type": "code",
   "execution_count": 28,
   "id": "3b8aa577",
   "metadata": {},
   "outputs": [
    {
     "data": {
      "text/plain": [
       "<matplotlib.collections.PathCollection at 0x2336763e220>"
      ]
     },
     "execution_count": 28,
     "metadata": {},
     "output_type": "execute_result"
    },
    {
     "data": {
      "image/png": "[encoded data removed]",
      "text/plain": [
       "<Figure size 1296x432 with 1 Axes>"
      ]
     },
     "metadata": {
      "needs_background": "light"
     },
     "output_type": "display_data"
    }
   ],
   "source": [
    "plt.figure(figsize=(18,6))\n",
    "plt.scatter(x=df.index, y=df['Sales'])"
   ]
  },
  {
   "cell_type": "markdown",
   "id": "255fd251",
   "metadata": {},
   "source": [
    "Let's remove obvious outliers"
   ]
  },
  {
   "cell_type": "code",
   "execution_count": 29,
   "id": "bdb0a7ee",
   "metadata": {},
   "outputs": [
    {
     "data": {
      "text/plain": [
       "(array([14975., 15034., 15095., 15156., 15218., 15279.]),\n",
       " [Text(0, 0, ''),\n",
       "  Text(0, 0, ''),\n",
       "  Text(0, 0, ''),\n",
       "  Text(0, 0, ''),\n",
       "  Text(0, 0, ''),\n",
       "  Text(0, 0, '')])"
      ]
     },
     "execution_count": 29,
     "metadata": {},
     "output_type": "execute_result"
    },
    {
     "data": {
      "image/png": "[encoded data removed]",
      "text/plain": [
       "<Figure size 1296x432 with 1 Axes>"
      ]
     },
     "metadata": {
      "needs_background": "light"
     },
     "output_type": "display_data"
    }
   ],
   "source": [
    "df = df[df['Sales'] < 25000]\n",
    "plt.figure(figsize=(18,6))\n",
    "plt.scatter(x=df.index, y=df['Sales'])\n",
    "plt.xticks(rotation=90)"
   ]
  },
  {
   "cell_type": "markdown",
   "id": "a751d765",
   "metadata": {},
   "source": [
    "Even after visible outliers are eliminated, some values remain outside of the normal distribution. Let's look at the various percentiles of our numerical features to gain a better understanding of the distribution of our data."
   ]
  },
  {
   "cell_type": "code",
   "execution_count": 30,
   "id": "89d7eb03",
   "metadata": {},
   "outputs": [
    {
     "data": {
      "text/html": [
       "<div>\n",
       "<style scoped>\n",
       "    .dataframe tbody tr th:only-of-type {\n",
       "        vertical-align: middle;\n",
       "    }\n",
       "\n",
       "    .dataframe tbody tr th {\n",
       "        vertical-align: top;\n",
       "    }\n",
       "\n",
       "    .dataframe thead th {\n",
       "        text-align: right;\n",
       "    }\n",
       "</style>\n",
       "<table border=\"1\" class=\"dataframe\">\n",
       "  <thead>\n",
       "    <tr style=\"text-align: right;\">\n",
       "      <th></th>\n",
       "      <th>Quantity</th>\n",
       "      <th>UnitPrice</th>\n",
       "      <th>Sales</th>\n",
       "    </tr>\n",
       "  </thead>\n",
       "  <tbody>\n",
       "    <tr>\n",
       "      <th>0.050</th>\n",
       "      <td>1.0</td>\n",
       "      <td>0.42</td>\n",
       "      <td>1.25</td>\n",
       "    </tr>\n",
       "    <tr>\n",
       "      <th>0.950</th>\n",
       "      <td>30.0</td>\n",
       "      <td>9.95</td>\n",
       "      <td>59.70</td>\n",
       "    </tr>\n",
       "    <tr>\n",
       "      <th>0.980</th>\n",
       "      <td>72.0</td>\n",
       "      <td>14.95</td>\n",
       "      <td>121.68</td>\n",
       "    </tr>\n",
       "    <tr>\n",
       "      <th>0.990</th>\n",
       "      <td>100.0</td>\n",
       "      <td>16.98</td>\n",
       "      <td>183.60</td>\n",
       "    </tr>\n",
       "    <tr>\n",
       "      <th>0.999</th>\n",
       "      <td>446.4</td>\n",
       "      <td>165.00</td>\n",
       "      <td>833.79</td>\n",
       "    </tr>\n",
       "  </tbody>\n",
       "</table>\n",
       "</div>"
      ],
      "text/plain": [
       "       Quantity  UnitPrice   Sales\n",
       "0.050       1.0       0.42    1.25\n",
       "0.950      30.0       9.95   59.70\n",
       "0.980      72.0      14.95  121.68\n",
       "0.990     100.0      16.98  183.60\n",
       "0.999     446.4     165.00  833.79"
      ]
     },
     "execution_count": 30,
     "metadata": {},
     "output_type": "execute_result"
    }
   ],
   "source": [
    "df.quantile([0.05, 0.95, 0.98, 0.99, 0.999])"
   ]
  },
  {
   "cell_type": "markdown",
   "id": "c7aae315",
   "metadata": {},
   "source": [
    "It is evident that eliminating the highest 2% of our data points will eliminate absolute outliers and result in a more balanced dataset."
   ]
  },
  {
   "cell_type": "code",
   "execution_count": 31,
   "id": "ae79eae1",
   "metadata": {},
   "outputs": [
    {
     "data": {
      "text/plain": [
       "(array([14975., 15034., 15095., 15156., 15218., 15279.]),\n",
       " [Text(0, 0, ''),\n",
       "  Text(0, 0, ''),\n",
       "  Text(0, 0, ''),\n",
       "  Text(0, 0, ''),\n",
       "  Text(0, 0, ''),\n",
       "  Text(0, 0, '')])"
      ]
     },
     "execution_count": 31,
     "metadata": {},
     "output_type": "execute_result"
    },
    {
     "data": {
      "image/png": "[encoded data removed]",
      "text/plain": [
       "<Figure size 432x288 with 1 Axes>"
      ]
     },
     "metadata": {
      "needs_background": "light"
     },
     "output_type": "display_data"
    }
   ],
   "source": [
    "df_quantile = df[df['Sales'] < 125]\n",
    "plt.scatter(x=df_quantile.index, y=df_quantile['Sales'])\n",
    "plt.xticks(rotation=90)"
   ]
  },
  {
   "cell_type": "code",
   "execution_count": 32,
   "id": "f8d0bd3e",
   "metadata": {},
   "outputs": [
    {
     "data": {
      "text/html": [
       "<div>\n",
       "<style scoped>\n",
       "    .dataframe tbody tr th:only-of-type {\n",
       "        vertical-align: middle;\n",
       "    }\n",
       "\n",
       "    .dataframe tbody tr th {\n",
       "        vertical-align: top;\n",
       "    }\n",
       "\n",
       "    .dataframe thead th {\n",
       "        text-align: right;\n",
       "    }\n",
       "</style>\n",
       "<table border=\"1\" class=\"dataframe\">\n",
       "  <thead>\n",
       "    <tr style=\"text-align: right;\">\n",
       "      <th></th>\n",
       "      <th>Quantity</th>\n",
       "      <th>UnitPrice</th>\n",
       "      <th>Sales</th>\n",
       "    </tr>\n",
       "  </thead>\n",
       "  <tbody>\n",
       "    <tr>\n",
       "      <th>count</th>\n",
       "      <td>519958.000000</td>\n",
       "      <td>519958.000000</td>\n",
       "      <td>519958.000000</td>\n",
       "    </tr>\n",
       "    <tr>\n",
       "      <th>mean</th>\n",
       "      <td>7.850934</td>\n",
       "      <td>3.286582</td>\n",
       "      <td>13.850263</td>\n",
       "    </tr>\n",
       "    <tr>\n",
       "      <th>std</th>\n",
       "      <td>15.303867</td>\n",
       "      <td>3.949021</td>\n",
       "      <td>16.330954</td>\n",
       "    </tr>\n",
       "    <tr>\n",
       "      <th>min</th>\n",
       "      <td>1.000000</td>\n",
       "      <td>0.001000</td>\n",
       "      <td>0.001000</td>\n",
       "    </tr>\n",
       "    <tr>\n",
       "      <th>25%</th>\n",
       "      <td>1.000000</td>\n",
       "      <td>1.250000</td>\n",
       "      <td>3.750000</td>\n",
       "    </tr>\n",
       "    <tr>\n",
       "      <th>50%</th>\n",
       "      <td>3.000000</td>\n",
       "      <td>2.080000</td>\n",
       "      <td>9.840000</td>\n",
       "    </tr>\n",
       "    <tr>\n",
       "      <th>75%</th>\n",
       "      <td>10.000000</td>\n",
       "      <td>4.130000</td>\n",
       "      <td>17.220000</td>\n",
       "    </tr>\n",
       "    <tr>\n",
       "      <th>max</th>\n",
       "      <td>1600.000000</td>\n",
       "      <td>124.870000</td>\n",
       "      <td>124.950000</td>\n",
       "    </tr>\n",
       "  </tbody>\n",
       "</table>\n",
       "</div>"
      ],
      "text/plain": [
       "            Quantity      UnitPrice          Sales\n",
       "count  519958.000000  519958.000000  519958.000000\n",
       "mean        7.850934       3.286582      13.850263\n",
       "std        15.303867       3.949021      16.330954\n",
       "min         1.000000       0.001000       0.001000\n",
       "25%         1.000000       1.250000       3.750000\n",
       "50%         3.000000       2.080000       9.840000\n",
       "75%        10.000000       4.130000      17.220000\n",
       "max      1600.000000     124.870000     124.950000"
      ]
     },
     "execution_count": 32,
     "metadata": {},
     "output_type": "execute_result"
    }
   ],
   "source": [
    "df_quantile.describe()"
   ]
  },
  {
   "cell_type": "markdown",
   "id": "75ec9631",
   "metadata": {},
   "source": [
    "It appears that our data is about ready for modeling. Our data looks much better now that we cleaned it up and eliminated any outliers that were throwing off the dataset's equilibrium. and its value doesn't diminish."
   ]
  },
  {
   "cell_type": "markdown",
   "id": "f9257022",
   "metadata": {},
   "source": [
    "Visually checking distribution of numeric features"
   ]
  },
  {
   "cell_type": "code",
   "execution_count": 33,
   "id": "c1edee70",
   "metadata": {},
   "outputs": [
    {
     "data": {
      "text/plain": [
       "<AxesSubplot:ylabel='Density'>"
      ]
     },
     "execution_count": 33,
     "metadata": {},
     "output_type": "execute_result"
    },
    {
     "data": {
      "image/png": "[encoded data removed]",
      "text/plain": [
       "<Figure size 864x288 with 1 Axes>"
      ]
     },
     "metadata": {
      "needs_background": "light"
     },
     "output_type": "display_data"
    }
   ],
   "source": [
    "plt.figure(figsize=(12,4))\n",
    "sns.distplot(df_quantile[df_quantile['UnitPrice'] < 10]['UnitPrice'].values, kde=True, bins=10)\n"
   ]
  },
  {
   "cell_type": "code",
   "execution_count": 34,
   "id": "70cc299d",
   "metadata": {},
   "outputs": [
    {
     "data": {
      "text/plain": [
       "<AxesSubplot:ylabel='Density'>"
      ]
     },
     "execution_count": 34,
     "metadata": {},
     "output_type": "execute_result"
    },
    {
     "data": {
      "image/png": "[encoded data removed]",
      "text/plain": [
       "<Figure size 864x288 with 1 Axes>"
      ]
     },
     "metadata": {
      "needs_background": "light"
     },
     "output_type": "display_data"
    }
   ],
   "source": [
    "plt.figure(figsize=(12,4))\n",
    "sns.distplot(df_quantile[df_quantile['UnitPrice'] < 5]['UnitPrice'].values, kde=True, bins=10, color='green')"
   ]
  },
  {
   "cell_type": "markdown",
   "id": "e83e03b7",
   "metadata": {},
   "source": [
    "These histograms show that the great majority of the goods in this store are priced between 0 and 3 pounds."
   ]
  },
  {
   "cell_type": "code",
   "execution_count": 35,
   "id": "7fb2d1b3",
   "metadata": {},
   "outputs": [
    {
     "data": {
      "text/plain": [
       "<AxesSubplot:xlabel='Quantity', ylabel='Density'>"
      ]
     },
     "execution_count": 35,
     "metadata": {},
     "output_type": "execute_result"
    },
    {
     "data": {
      "image/png": "[encoded data removed]",
      "text/plain": [
       "<Figure size 864x288 with 1 Axes>"
      ]
     },
     "metadata": {
      "needs_background": "light"
     },
     "output_type": "display_data"
    }
   ],
   "source": [
    "plt.figure(figsize=(12,4))\n",
    "sns.distplot(df_quantile[df_quantile['Quantity'] <= 30]['Quantity'], kde=True, bins=10, color='red')"
   ]
  },
  {
   "cell_type": "code",
   "execution_count": 36,
   "id": "ae9b00d4",
   "metadata": {},
   "outputs": [
    {
     "data": {
      "text/plain": [
       "<AxesSubplot:xlabel='Quantity', ylabel='Density'>"
      ]
     },
     "execution_count": 36,
     "metadata": {},
     "output_type": "execute_result"
    },
    {
     "data": {
      "image/png": "[encoded data removed]",
      "text/plain": [
       "<Figure size 864x288 with 1 Axes>"
      ]
     },
     "metadata": {
      "needs_background": "light"
     },
     "output_type": "display_data"
    }
   ],
   "source": [
    "plt.figure(figsize=(12,4))\n",
    "sns.distplot(df_quantile[df_quantile['Quantity'] <= 15]['Quantity'], kde=True, bins=10, color='orange')"
   ]
  },
  {
   "cell_type": "markdown",
   "id": "27cfdb29",
   "metadata": {},
   "source": [
    "These histograms show that customers typically purchase 1–5 items or 10–12 items; perhaps there were set-related offers?"
   ]
  },
  {
   "cell_type": "code",
   "execution_count": 37,
   "id": "9f86401b",
   "metadata": {},
   "outputs": [
    {
     "data": {
      "text/plain": [
       "<AxesSubplot:xlabel='Sales', ylabel='Density'>"
      ]
     },
     "execution_count": 37,
     "metadata": {},
     "output_type": "execute_result"
    },
    {
     "data": {
      "image/png": "[encoded data removed]",
      "text/plain": [
       "<Figure size 864x288 with 1 Axes>"
      ]
     },
     "metadata": {
      "needs_background": "light"
     },
     "output_type": "display_data"
    }
   ],
   "source": [
    "plt.figure(figsize=(12,4))\n",
    "sns.distplot(df_quantile[df_quantile['Sales'] < 60]['Sales'], kde=True, bins=10, color='purple')"
   ]
  },
  {
   "cell_type": "code",
   "execution_count": 38,
   "id": "81e4bbed",
   "metadata": {},
   "outputs": [
    {
     "data": {
      "text/plain": [
       "<AxesSubplot:xlabel='Sales', ylabel='Density'>"
      ]
     },
     "execution_count": 38,
     "metadata": {},
     "output_type": "execute_result"
    },
    {
     "data": {
      "image/png": "[encoded data removed]",
      "text/plain": [
       "<Figure size 864x288 with 1 Axes>"
      ]
     },
     "metadata": {
      "needs_background": "light"
     },
     "output_type": "display_data"
    }
   ],
   "source": [
    "plt.figure(figsize=(12,4))\n",
    "sns.distplot(df_quantile[df_quantile['Sales'] < 30]['Sales'], kde=True, bins=10, color='grey')"
   ]
  },
  {
   "cell_type": "markdown",
   "id": "69285436",
   "metadata": {},
   "source": [
    "From these histograms we can understand that majority of sales per order were in range 1-15 pounds each."
   ]
  },
  {
   "cell_type": "markdown",
   "id": "177a12b6",
   "metadata": {},
   "source": [
    "# Analysing sales over time"
   ]
  },
  {
   "cell_type": "code",
   "execution_count": 39,
   "id": "12f4e8e4",
   "metadata": {},
   "outputs": [
    {
     "data": {
      "text/html": [
       "<div>\n",
       "<style scoped>\n",
       "    .dataframe tbody tr th:only-of-type {\n",
       "        vertical-align: middle;\n",
       "    }\n",
       "\n",
       "    .dataframe tbody tr th {\n",
       "        vertical-align: top;\n",
       "    }\n",
       "\n",
       "    .dataframe thead th {\n",
       "        text-align: right;\n",
       "    }\n",
       "</style>\n",
       "<table border=\"1\" class=\"dataframe\">\n",
       "  <thead>\n",
       "    <tr style=\"text-align: right;\">\n",
       "      <th></th>\n",
       "      <th>Sales</th>\n",
       "    </tr>\n",
       "    <tr>\n",
       "      <th>InvoiceDate</th>\n",
       "      <th></th>\n",
       "    </tr>\n",
       "  </thead>\n",
       "  <tbody>\n",
       "    <tr>\n",
       "      <th>2010-12-01 08:26:00</th>\n",
       "      <td>15.30</td>\n",
       "    </tr>\n",
       "    <tr>\n",
       "      <th>2010-12-01 08:26:00</th>\n",
       "      <td>20.34</td>\n",
       "    </tr>\n",
       "    <tr>\n",
       "      <th>2010-12-01 08:26:00</th>\n",
       "      <td>22.00</td>\n",
       "    </tr>\n",
       "    <tr>\n",
       "      <th>2010-12-01 08:26:00</th>\n",
       "      <td>20.34</td>\n",
       "    </tr>\n",
       "    <tr>\n",
       "      <th>2010-12-01 08:26:00</th>\n",
       "      <td>20.34</td>\n",
       "    </tr>\n",
       "  </tbody>\n",
       "</table>\n",
       "</div>"
      ],
      "text/plain": [
       "                     Sales\n",
       "InvoiceDate               \n",
       "2010-12-01 08:26:00  15.30\n",
       "2010-12-01 08:26:00  20.34\n",
       "2010-12-01 08:26:00  22.00\n",
       "2010-12-01 08:26:00  20.34\n",
       "2010-12-01 08:26:00  20.34"
      ]
     },
     "execution_count": 39,
     "metadata": {},
     "output_type": "execute_result"
    }
   ],
   "source": [
    "df_ts = df[['Sales']]\n",
    "df_ts.head()"
   ]
  },
  {
   "cell_type": "markdown",
   "id": "0c42e15b",
   "metadata": {},
   "source": [
    "As you can see, each invoice includes a unique timestamp that is unquestionably based on the moment the order was placed. We can try to find any patterns in our sales by resampling the time data by, presume, weeks."
   ]
  },
  {
   "cell_type": "code",
   "execution_count": 40,
   "id": "3a0c23f9",
   "metadata": {},
   "outputs": [
    {
     "data": {
      "text/plain": [
       "<AxesSubplot:xlabel='InvoiceDate'>"
      ]
     },
     "execution_count": 40,
     "metadata": {},
     "output_type": "execute_result"
    },
    {
     "data": {
      "text/plain": [
       "<Figure size 1296x432 with 0 Axes>"
      ]
     },
     "metadata": {},
     "output_type": "display_data"
    },
    {
     "data": {
      "image/png": "[encoded data removed]",
      "text/plain": [
       "<Figure size 432x288 with 1 Axes>"
      ]
     },
     "metadata": {
      "needs_background": "light"
     },
     "output_type": "display_data"
    }
   ],
   "source": [
    "plt.figure(figsize=(18,6))\n",
    "df_resample = df_ts.resample('W').sum()\n",
    "df_resample.plot()"
   ]
  },
  {
   "cell_type": "markdown",
   "id": "05504502",
   "metadata": {},
   "source": [
    "That week with 0 sales in January looks suspicious, let's check it closer"
   ]
  },
  {
   "cell_type": "code",
   "execution_count": 41,
   "id": "216b8a37",
   "metadata": {},
   "outputs": [
    {
     "data": {
      "text/html": [
       "<div>\n",
       "<style scoped>\n",
       "    .dataframe tbody tr th:only-of-type {\n",
       "        vertical-align: middle;\n",
       "    }\n",
       "\n",
       "    .dataframe tbody tr th {\n",
       "        vertical-align: top;\n",
       "    }\n",
       "\n",
       "    .dataframe thead th {\n",
       "        text-align: right;\n",
       "    }\n",
       "</style>\n",
       "<table border=\"1\" class=\"dataframe\">\n",
       "  <thead>\n",
       "    <tr style=\"text-align: right;\">\n",
       "      <th></th>\n",
       "      <th>Sales</th>\n",
       "    </tr>\n",
       "    <tr>\n",
       "      <th>InvoiceDate</th>\n",
       "      <th></th>\n",
       "    </tr>\n",
       "  </thead>\n",
       "  <tbody>\n",
       "    <tr>\n",
       "      <th>2010-12-05</th>\n",
       "      <td>185427.83</td>\n",
       "    </tr>\n",
       "    <tr>\n",
       "      <th>2010-12-12</th>\n",
       "      <td>329936.81</td>\n",
       "    </tr>\n",
       "    <tr>\n",
       "      <th>2010-12-19</th>\n",
       "      <td>216012.20</td>\n",
       "    </tr>\n",
       "    <tr>\n",
       "      <th>2010-12-26</th>\n",
       "      <td>92369.30</td>\n",
       "    </tr>\n",
       "    <tr>\n",
       "      <th>2011-01-02</th>\n",
       "      <td>0.00</td>\n",
       "    </tr>\n",
       "    <tr>\n",
       "      <th>2011-01-09</th>\n",
       "      <td>133658.19</td>\n",
       "    </tr>\n",
       "    <tr>\n",
       "      <th>2011-01-16</th>\n",
       "      <td>193362.04</td>\n",
       "    </tr>\n",
       "    <tr>\n",
       "      <th>2011-01-23</th>\n",
       "      <td>138349.58</td>\n",
       "    </tr>\n",
       "    <tr>\n",
       "      <th>2011-01-30</th>\n",
       "      <td>125170.79</td>\n",
       "    </tr>\n",
       "  </tbody>\n",
       "</table>\n",
       "</div>"
      ],
      "text/plain": [
       "                 Sales\n",
       "InvoiceDate           \n",
       "2010-12-05   185427.83\n",
       "2010-12-12   329936.81\n",
       "2010-12-19   216012.20\n",
       "2010-12-26    92369.30\n",
       "2011-01-02        0.00\n",
       "2011-01-09   133658.19\n",
       "2011-01-16   193362.04\n",
       "2011-01-23   138349.58\n",
       "2011-01-30   125170.79"
      ]
     },
     "execution_count": 41,
     "metadata": {},
     "output_type": "execute_result"
    }
   ],
   "source": [
    "df_resample['12-2010':'01-2011']"
   ]
  },
  {
   "cell_type": "markdown",
   "id": "b10f7387",
   "metadata": {},
   "source": [
    "It makes sense now—possibly the store was closed for the New Year's holiday and didn't process orders, which is why they couldn't generate any sales."
   ]
  },
  {
   "cell_type": "markdown",
   "id": "a1be14e5",
   "metadata": {},
   "source": [
    "# Preparing data for modeling and feature creation"
   ]
  },
  {
   "cell_type": "code",
   "execution_count": 42,
   "id": "652e8566",
   "metadata": {},
   "outputs": [
    {
     "data": {
      "text/html": [
       "<div>\n",
       "<style scoped>\n",
       "    .dataframe tbody tr th:only-of-type {\n",
       "        vertical-align: middle;\n",
       "    }\n",
       "\n",
       "    .dataframe tbody tr th {\n",
       "        vertical-align: top;\n",
       "    }\n",
       "\n",
       "    .dataframe thead th {\n",
       "        text-align: right;\n",
       "    }\n",
       "</style>\n",
       "<table border=\"1\" class=\"dataframe\">\n",
       "  <thead>\n",
       "    <tr style=\"text-align: right;\">\n",
       "      <th></th>\n",
       "      <th>Quantity</th>\n",
       "      <th>UnitPrice</th>\n",
       "      <th>Sales</th>\n",
       "    </tr>\n",
       "  </thead>\n",
       "  <tbody>\n",
       "    <tr>\n",
       "      <th>count</th>\n",
       "      <td>520393.000000</td>\n",
       "      <td>520393.000000</td>\n",
       "      <td>520393.000000</td>\n",
       "    </tr>\n",
       "    <tr>\n",
       "      <th>mean</th>\n",
       "      <td>10.409364</td>\n",
       "      <td>2.978735</td>\n",
       "      <td>18.669870</td>\n",
       "    </tr>\n",
       "    <tr>\n",
       "      <th>std</th>\n",
       "      <td>38.123726</td>\n",
       "      <td>2.669829</td>\n",
       "      <td>64.710055</td>\n",
       "    </tr>\n",
       "    <tr>\n",
       "      <th>min</th>\n",
       "      <td>1.000000</td>\n",
       "      <td>0.001000</td>\n",
       "      <td>0.001000</td>\n",
       "    </tr>\n",
       "    <tr>\n",
       "      <th>25%</th>\n",
       "      <td>1.000000</td>\n",
       "      <td>1.250000</td>\n",
       "      <td>3.750000</td>\n",
       "    </tr>\n",
       "    <tr>\n",
       "      <th>50%</th>\n",
       "      <td>4.000000</td>\n",
       "      <td>2.080000</td>\n",
       "      <td>9.840000</td>\n",
       "    </tr>\n",
       "    <tr>\n",
       "      <th>75%</th>\n",
       "      <td>12.000000</td>\n",
       "      <td>4.130000</td>\n",
       "      <td>17.400000</td>\n",
       "    </tr>\n",
       "    <tr>\n",
       "      <th>max</th>\n",
       "      <td>4800.000000</td>\n",
       "      <td>14.960000</td>\n",
       "      <td>7144.720000</td>\n",
       "    </tr>\n",
       "  </tbody>\n",
       "</table>\n",
       "</div>"
      ],
      "text/plain": [
       "            Quantity      UnitPrice          Sales\n",
       "count  520393.000000  520393.000000  520393.000000\n",
       "mean       10.409364       2.978735      18.669870\n",
       "std        38.123726       2.669829      64.710055\n",
       "min         1.000000       0.001000       0.001000\n",
       "25%         1.000000       1.250000       3.750000\n",
       "50%         4.000000       2.080000       9.840000\n",
       "75%        12.000000       4.130000      17.400000\n",
       "max      4800.000000      14.960000    7144.720000"
      ]
     },
     "execution_count": 42,
     "metadata": {},
     "output_type": "execute_result"
    }
   ],
   "source": [
    "df_clean = df[df['UnitPrice'] < 15]\n",
    "df_clean.describe()"
   ]
  },
  {
   "cell_type": "code",
   "execution_count": 43,
   "id": "0098de21",
   "metadata": {},
   "outputs": [
    {
     "data": {
      "text/plain": [
       "DatetimeIndex(['2010-12-01 08:26:00', '2010-12-01 08:26:00',\n",
       "               '2010-12-01 08:26:00', '2010-12-01 08:26:00',\n",
       "               '2010-12-01 08:26:00', '2010-12-01 08:26:00',\n",
       "               '2010-12-01 08:26:00', '2010-12-01 08:28:00',\n",
       "               '2010-12-01 08:28:00', '2010-12-01 08:34:00',\n",
       "               ...\n",
       "               '2011-12-09 12:50:00', '2011-12-09 12:50:00',\n",
       "               '2011-12-09 12:50:00', '2011-12-09 12:50:00',\n",
       "               '2011-12-09 12:50:00', '2011-12-09 12:50:00',\n",
       "               '2011-12-09 12:50:00', '2011-12-09 12:50:00',\n",
       "               '2011-12-09 12:50:00', '2011-12-09 12:50:00'],\n",
       "              dtype='datetime64[ns]', name='InvoiceDate', length=520393, freq=None)"
      ]
     },
     "execution_count": 43,
     "metadata": {},
     "output_type": "execute_result"
    }
   ],
   "source": [
    "df_clean.index"
   ]
  },
  {
   "cell_type": "markdown",
   "id": "655e2bf2",
   "metadata": {},
   "source": [
    "# Quantity per invoice feature\n",
    "\n",
    "\"Quantity per invoice\" is one feature that might have an impact on sales production. Let's look for this feature's data."
   ]
  },
  {
   "cell_type": "code",
   "execution_count": 44,
   "id": "e57ccba0",
   "metadata": {},
   "outputs": [],
   "source": [
    "df_join = df_clean.groupby('Invoice_No')[['Quantity']].sum()"
   ]
  },
  {
   "cell_type": "code",
   "execution_count": 45,
   "id": "e8556294",
   "metadata": {},
   "outputs": [
    {
     "data": {
      "text/html": [
       "<div>\n",
       "<style scoped>\n",
       "    .dataframe tbody tr th:only-of-type {\n",
       "        vertical-align: middle;\n",
       "    }\n",
       "\n",
       "    .dataframe tbody tr th {\n",
       "        vertical-align: top;\n",
       "    }\n",
       "\n",
       "    .dataframe thead th {\n",
       "        text-align: right;\n",
       "    }\n",
       "</style>\n",
       "<table border=\"1\" class=\"dataframe\">\n",
       "  <thead>\n",
       "    <tr style=\"text-align: right;\">\n",
       "      <th></th>\n",
       "      <th>Invoice_No</th>\n",
       "      <th>Quantity</th>\n",
       "    </tr>\n",
       "  </thead>\n",
       "  <tbody>\n",
       "    <tr>\n",
       "      <th>0</th>\n",
       "      <td>536365</td>\n",
       "      <td>40</td>\n",
       "    </tr>\n",
       "    <tr>\n",
       "      <th>1</th>\n",
       "      <td>536366</td>\n",
       "      <td>12</td>\n",
       "    </tr>\n",
       "    <tr>\n",
       "      <th>2</th>\n",
       "      <td>536367</td>\n",
       "      <td>83</td>\n",
       "    </tr>\n",
       "    <tr>\n",
       "      <th>3</th>\n",
       "      <td>536368</td>\n",
       "      <td>15</td>\n",
       "    </tr>\n",
       "    <tr>\n",
       "      <th>4</th>\n",
       "      <td>536369</td>\n",
       "      <td>3</td>\n",
       "    </tr>\n",
       "  </tbody>\n",
       "</table>\n",
       "</div>"
      ],
      "text/plain": [
       "   Invoice_No  Quantity\n",
       "0      536365        40\n",
       "1      536366        12\n",
       "2      536367        83\n",
       "3      536368        15\n",
       "4      536369         3"
      ]
     },
     "execution_count": 45,
     "metadata": {},
     "output_type": "execute_result"
    }
   ],
   "source": [
    "df_join = df_join.reset_index()\n",
    "df_join.head()"
   ]
  },
  {
   "cell_type": "code",
   "execution_count": 46,
   "id": "40e525a8",
   "metadata": {},
   "outputs": [
    {
     "data": {
      "text/html": [
       "<div>\n",
       "<style scoped>\n",
       "    .dataframe tbody tr th:only-of-type {\n",
       "        vertical-align: middle;\n",
       "    }\n",
       "\n",
       "    .dataframe tbody tr th {\n",
       "        vertical-align: top;\n",
       "    }\n",
       "\n",
       "    .dataframe thead th {\n",
       "        text-align: right;\n",
       "    }\n",
       "</style>\n",
       "<table border=\"1\" class=\"dataframe\">\n",
       "  <thead>\n",
       "    <tr style=\"text-align: right;\">\n",
       "      <th></th>\n",
       "      <th>Invoice_No</th>\n",
       "      <th>StockCode</th>\n",
       "      <th>Description</th>\n",
       "      <th>Quantity</th>\n",
       "      <th>UnitPrice</th>\n",
       "      <th>Country</th>\n",
       "      <th>Sales</th>\n",
       "      <th>InvoiceDate</th>\n",
       "      <th>QuantityInv</th>\n",
       "    </tr>\n",
       "  </thead>\n",
       "  <tbody>\n",
       "    <tr>\n",
       "      <th>520378</th>\n",
       "      <td>581587</td>\n",
       "      <td>22631</td>\n",
       "      <td>CIRCUS PARADE LUNCH BOX</td>\n",
       "      <td>12</td>\n",
       "      <td>1.95</td>\n",
       "      <td>France</td>\n",
       "      <td>23.40</td>\n",
       "      <td>2011-12-09 12:50:00</td>\n",
       "      <td>105</td>\n",
       "    </tr>\n",
       "    <tr>\n",
       "      <th>520379</th>\n",
       "      <td>581587</td>\n",
       "      <td>22556</td>\n",
       "      <td>PLASTERS IN TIN CIRCUS PARADE</td>\n",
       "      <td>12</td>\n",
       "      <td>1.65</td>\n",
       "      <td>France</td>\n",
       "      <td>19.80</td>\n",
       "      <td>2011-12-09 12:50:00</td>\n",
       "      <td>105</td>\n",
       "    </tr>\n",
       "    <tr>\n",
       "      <th>520380</th>\n",
       "      <td>581587</td>\n",
       "      <td>22555</td>\n",
       "      <td>PLASTERS IN TIN STRONGMAN</td>\n",
       "      <td>12</td>\n",
       "      <td>1.65</td>\n",
       "      <td>France</td>\n",
       "      <td>19.80</td>\n",
       "      <td>2011-12-09 12:50:00</td>\n",
       "      <td>105</td>\n",
       "    </tr>\n",
       "    <tr>\n",
       "      <th>520381</th>\n",
       "      <td>581587</td>\n",
       "      <td>22728</td>\n",
       "      <td>ALARM CLOCK BAKELIKE PINK</td>\n",
       "      <td>4</td>\n",
       "      <td>3.75</td>\n",
       "      <td>France</td>\n",
       "      <td>15.00</td>\n",
       "      <td>2011-12-09 12:50:00</td>\n",
       "      <td>105</td>\n",
       "    </tr>\n",
       "    <tr>\n",
       "      <th>520382</th>\n",
       "      <td>581587</td>\n",
       "      <td>22727</td>\n",
       "      <td>ALARM CLOCK BAKELIKE RED</td>\n",
       "      <td>4</td>\n",
       "      <td>3.75</td>\n",
       "      <td>France</td>\n",
       "      <td>15.00</td>\n",
       "      <td>2011-12-09 12:50:00</td>\n",
       "      <td>105</td>\n",
       "    </tr>\n",
       "    <tr>\n",
       "      <th>520383</th>\n",
       "      <td>581587</td>\n",
       "      <td>22726</td>\n",
       "      <td>ALARM CLOCK BAKELIKE GREEN</td>\n",
       "      <td>4</td>\n",
       "      <td>3.75</td>\n",
       "      <td>France</td>\n",
       "      <td>15.00</td>\n",
       "      <td>2011-12-09 12:50:00</td>\n",
       "      <td>105</td>\n",
       "    </tr>\n",
       "    <tr>\n",
       "      <th>520384</th>\n",
       "      <td>581587</td>\n",
       "      <td>22730</td>\n",
       "      <td>ALARM CLOCK BAKELIKE IVORY</td>\n",
       "      <td>4</td>\n",
       "      <td>3.75</td>\n",
       "      <td>France</td>\n",
       "      <td>15.00</td>\n",
       "      <td>2011-12-09 12:50:00</td>\n",
       "      <td>105</td>\n",
       "    </tr>\n",
       "    <tr>\n",
       "      <th>520385</th>\n",
       "      <td>581587</td>\n",
       "      <td>22367</td>\n",
       "      <td>CHILDRENS APRON SPACEBOY DESIGN</td>\n",
       "      <td>8</td>\n",
       "      <td>1.95</td>\n",
       "      <td>France</td>\n",
       "      <td>15.60</td>\n",
       "      <td>2011-12-09 12:50:00</td>\n",
       "      <td>105</td>\n",
       "    </tr>\n",
       "    <tr>\n",
       "      <th>520386</th>\n",
       "      <td>581587</td>\n",
       "      <td>22629</td>\n",
       "      <td>SPACEBOY LUNCH BOX</td>\n",
       "      <td>12</td>\n",
       "      <td>1.95</td>\n",
       "      <td>France</td>\n",
       "      <td>23.40</td>\n",
       "      <td>2011-12-09 12:50:00</td>\n",
       "      <td>105</td>\n",
       "    </tr>\n",
       "    <tr>\n",
       "      <th>520387</th>\n",
       "      <td>581587</td>\n",
       "      <td>23256</td>\n",
       "      <td>CHILDRENS CUTLERY SPACEBOY</td>\n",
       "      <td>4</td>\n",
       "      <td>4.15</td>\n",
       "      <td>France</td>\n",
       "      <td>16.60</td>\n",
       "      <td>2011-12-09 12:50:00</td>\n",
       "      <td>105</td>\n",
       "    </tr>\n",
       "    <tr>\n",
       "      <th>520388</th>\n",
       "      <td>581587</td>\n",
       "      <td>22613</td>\n",
       "      <td>PACK OF 20 SPACEBOY NAPKINS</td>\n",
       "      <td>12</td>\n",
       "      <td>0.85</td>\n",
       "      <td>France</td>\n",
       "      <td>10.20</td>\n",
       "      <td>2011-12-09 12:50:00</td>\n",
       "      <td>105</td>\n",
       "    </tr>\n",
       "    <tr>\n",
       "      <th>520389</th>\n",
       "      <td>581587</td>\n",
       "      <td>22899</td>\n",
       "      <td>CHILDREN'S APRON DOLLY GIRL</td>\n",
       "      <td>6</td>\n",
       "      <td>2.10</td>\n",
       "      <td>France</td>\n",
       "      <td>12.60</td>\n",
       "      <td>2011-12-09 12:50:00</td>\n",
       "      <td>105</td>\n",
       "    </tr>\n",
       "    <tr>\n",
       "      <th>520390</th>\n",
       "      <td>581587</td>\n",
       "      <td>23254</td>\n",
       "      <td>CHILDRENS CUTLERY DOLLY GIRL</td>\n",
       "      <td>4</td>\n",
       "      <td>4.15</td>\n",
       "      <td>France</td>\n",
       "      <td>16.60</td>\n",
       "      <td>2011-12-09 12:50:00</td>\n",
       "      <td>105</td>\n",
       "    </tr>\n",
       "    <tr>\n",
       "      <th>520391</th>\n",
       "      <td>581587</td>\n",
       "      <td>23255</td>\n",
       "      <td>CHILDRENS CUTLERY CIRCUS PARADE</td>\n",
       "      <td>4</td>\n",
       "      <td>4.15</td>\n",
       "      <td>France</td>\n",
       "      <td>16.60</td>\n",
       "      <td>2011-12-09 12:50:00</td>\n",
       "      <td>105</td>\n",
       "    </tr>\n",
       "    <tr>\n",
       "      <th>520392</th>\n",
       "      <td>581587</td>\n",
       "      <td>22138</td>\n",
       "      <td>BAKING SET 9 PIECE RETROSPOT</td>\n",
       "      <td>3</td>\n",
       "      <td>4.95</td>\n",
       "      <td>France</td>\n",
       "      <td>14.85</td>\n",
       "      <td>2011-12-09 12:50:00</td>\n",
       "      <td>105</td>\n",
       "    </tr>\n",
       "  </tbody>\n",
       "</table>\n",
       "</div>"
      ],
      "text/plain": [
       "       Invoice_No StockCode                      Description  Quantity  \\\n",
       "520378     581587     22631         CIRCUS PARADE LUNCH BOX         12   \n",
       "520379     581587     22556   PLASTERS IN TIN CIRCUS PARADE         12   \n",
       "520380     581587     22555        PLASTERS IN TIN STRONGMAN        12   \n",
       "520381     581587     22728        ALARM CLOCK BAKELIKE PINK         4   \n",
       "520382     581587     22727        ALARM CLOCK BAKELIKE RED          4   \n",
       "520383     581587     22726       ALARM CLOCK BAKELIKE GREEN         4   \n",
       "520384     581587     22730       ALARM CLOCK BAKELIKE IVORY         4   \n",
       "520385     581587     22367  CHILDRENS APRON SPACEBOY DESIGN         8   \n",
       "520386     581587     22629              SPACEBOY LUNCH BOX         12   \n",
       "520387     581587     23256      CHILDRENS CUTLERY SPACEBOY          4   \n",
       "520388     581587     22613      PACK OF 20 SPACEBOY NAPKINS        12   \n",
       "520389     581587     22899     CHILDREN'S APRON DOLLY GIRL          6   \n",
       "520390     581587     23254    CHILDRENS CUTLERY DOLLY GIRL          4   \n",
       "520391     581587     23255  CHILDRENS CUTLERY CIRCUS PARADE         4   \n",
       "520392     581587     22138    BAKING SET 9 PIECE RETROSPOT          3   \n",
       "\n",
       "        UnitPrice Country  Sales         InvoiceDate  QuantityInv  \n",
       "520378       1.95  France  23.40 2011-12-09 12:50:00          105  \n",
       "520379       1.65  France  19.80 2011-12-09 12:50:00          105  \n",
       "520380       1.65  France  19.80 2011-12-09 12:50:00          105  \n",
       "520381       3.75  France  15.00 2011-12-09 12:50:00          105  \n",
       "520382       3.75  France  15.00 2011-12-09 12:50:00          105  \n",
       "520383       3.75  France  15.00 2011-12-09 12:50:00          105  \n",
       "520384       3.75  France  15.00 2011-12-09 12:50:00          105  \n",
       "520385       1.95  France  15.60 2011-12-09 12:50:00          105  \n",
       "520386       1.95  France  23.40 2011-12-09 12:50:00          105  \n",
       "520387       4.15  France  16.60 2011-12-09 12:50:00          105  \n",
       "520388       0.85  France  10.20 2011-12-09 12:50:00          105  \n",
       "520389       2.10  France  12.60 2011-12-09 12:50:00          105  \n",
       "520390       4.15  France  16.60 2011-12-09 12:50:00          105  \n",
       "520391       4.15  France  16.60 2011-12-09 12:50:00          105  \n",
       "520392       4.95  France  14.85 2011-12-09 12:50:00          105  "
      ]
     },
     "execution_count": 46,
     "metadata": {},
     "output_type": "execute_result"
    }
   ],
   "source": [
    "df_clean['InvoiceDate'] = df_clean.index\n",
    "df_clean = df_clean.merge(df_join, how='left', on='Invoice_No')\n",
    "df_clean = df_clean.rename(columns={'Quantity_x' : 'Quantity', 'Quantity_y' : 'QuantityInv'})\n",
    "df_clean.tail(15)"
   ]
  },
  {
   "cell_type": "code",
   "execution_count": 47,
   "id": "0661e536",
   "metadata": {},
   "outputs": [
    {
     "data": {
      "text/html": [
       "<div>\n",
       "<style scoped>\n",
       "    .dataframe tbody tr th:only-of-type {\n",
       "        vertical-align: middle;\n",
       "    }\n",
       "\n",
       "    .dataframe tbody tr th {\n",
       "        vertical-align: top;\n",
       "    }\n",
       "\n",
       "    .dataframe thead th {\n",
       "        text-align: right;\n",
       "    }\n",
       "</style>\n",
       "<table border=\"1\" class=\"dataframe\">\n",
       "  <thead>\n",
       "    <tr style=\"text-align: right;\">\n",
       "      <th></th>\n",
       "      <th>Quantity</th>\n",
       "      <th>UnitPrice</th>\n",
       "      <th>Sales</th>\n",
       "      <th>QuantityInv</th>\n",
       "    </tr>\n",
       "  </thead>\n",
       "  <tbody>\n",
       "    <tr>\n",
       "      <th>count</th>\n",
       "      <td>520393.000000</td>\n",
       "      <td>520393.000000</td>\n",
       "      <td>520393.000000</td>\n",
       "      <td>520393.000000</td>\n",
       "    </tr>\n",
       "    <tr>\n",
       "      <th>mean</th>\n",
       "      <td>10.409364</td>\n",
       "      <td>2.978735</td>\n",
       "      <td>18.669870</td>\n",
       "      <td>533.328732</td>\n",
       "    </tr>\n",
       "    <tr>\n",
       "      <th>std</th>\n",
       "      <td>38.123726</td>\n",
       "      <td>2.669829</td>\n",
       "      <td>64.710055</td>\n",
       "      <td>890.339855</td>\n",
       "    </tr>\n",
       "    <tr>\n",
       "      <th>min</th>\n",
       "      <td>1.000000</td>\n",
       "      <td>0.001000</td>\n",
       "      <td>0.001000</td>\n",
       "      <td>1.000000</td>\n",
       "    </tr>\n",
       "    <tr>\n",
       "      <th>25%</th>\n",
       "      <td>1.000000</td>\n",
       "      <td>1.250000</td>\n",
       "      <td>3.750000</td>\n",
       "      <td>152.000000</td>\n",
       "    </tr>\n",
       "    <tr>\n",
       "      <th>50%</th>\n",
       "      <td>4.000000</td>\n",
       "      <td>2.080000</td>\n",
       "      <td>9.840000</td>\n",
       "      <td>300.000000</td>\n",
       "    </tr>\n",
       "    <tr>\n",
       "      <th>75%</th>\n",
       "      <td>12.000000</td>\n",
       "      <td>4.130000</td>\n",
       "      <td>17.400000</td>\n",
       "      <td>567.000000</td>\n",
       "    </tr>\n",
       "    <tr>\n",
       "      <th>max</th>\n",
       "      <td>4800.000000</td>\n",
       "      <td>14.960000</td>\n",
       "      <td>7144.720000</td>\n",
       "      <td>15049.000000</td>\n",
       "    </tr>\n",
       "  </tbody>\n",
       "</table>\n",
       "</div>"
      ],
      "text/plain": [
       "            Quantity      UnitPrice          Sales    QuantityInv\n",
       "count  520393.000000  520393.000000  520393.000000  520393.000000\n",
       "mean       10.409364       2.978735      18.669870     533.328732\n",
       "std        38.123726       2.669829      64.710055     890.339855\n",
       "min         1.000000       0.001000       0.001000       1.000000\n",
       "25%         1.000000       1.250000       3.750000     152.000000\n",
       "50%         4.000000       2.080000       9.840000     300.000000\n",
       "75%        12.000000       4.130000      17.400000     567.000000\n",
       "max      4800.000000      14.960000    7144.720000   15049.000000"
      ]
     },
     "execution_count": 47,
     "metadata": {},
     "output_type": "execute_result"
    }
   ],
   "source": [
    "df_clean.describe()"
   ]
  },
  {
   "cell_type": "code",
   "execution_count": 48,
   "id": "be8bd46c",
   "metadata": {},
   "outputs": [],
   "source": [
    "df_clean['InvoiceDate'] = pd.to_datetime(df_clean['InvoiceDate'])"
   ]
  },
  {
   "cell_type": "code",
   "execution_count": 49,
   "id": "6c11a697",
   "metadata": {},
   "outputs": [
    {
     "data": {
      "text/plain": [
       "Invoice_No             object\n",
       "StockCode              object\n",
       "Description            object\n",
       "Quantity                int64\n",
       "UnitPrice             float64\n",
       "Country                object\n",
       "Sales                 float64\n",
       "InvoiceDate    datetime64[ns]\n",
       "QuantityInv             int64\n",
       "dtype: object"
      ]
     },
     "execution_count": 49,
     "metadata": {},
     "output_type": "execute_result"
    }
   ],
   "source": [
    "df_clean.dtypes"
   ]
  },
  {
   "cell_type": "markdown",
   "id": "6991ef1e",
   "metadata": {},
   "source": [
    "# Bucketizing Quantity and UnitPrice features\n",
    "\n",
    "We can use the pandas.cut() method to arrange these characteristics into 6 buckets for Quantity and 5 for UnitePrice based on the preceding EDA.\n"
   ]
  },
  {
   "cell_type": "code",
   "execution_count": 50,
   "id": "9fa56e7d",
   "metadata": {},
   "outputs": [
    {
     "data": {
      "text/html": [
       "<div>\n",
       "<style scoped>\n",
       "    .dataframe tbody tr th:only-of-type {\n",
       "        vertical-align: middle;\n",
       "    }\n",
       "\n",
       "    .dataframe tbody tr th {\n",
       "        vertical-align: top;\n",
       "    }\n",
       "\n",
       "    .dataframe thead th {\n",
       "        text-align: right;\n",
       "    }\n",
       "</style>\n",
       "<table border=\"1\" class=\"dataframe\">\n",
       "  <thead>\n",
       "    <tr style=\"text-align: right;\">\n",
       "      <th></th>\n",
       "      <th>Invoice_No</th>\n",
       "      <th>StockCode</th>\n",
       "      <th>Description</th>\n",
       "      <th>Quantity</th>\n",
       "      <th>UnitPrice</th>\n",
       "      <th>Country</th>\n",
       "      <th>Sales</th>\n",
       "      <th>InvoiceDate</th>\n",
       "      <th>QuantityInv</th>\n",
       "      <th>QuantityRange</th>\n",
       "      <th>PriceRange</th>\n",
       "    </tr>\n",
       "  </thead>\n",
       "  <tbody>\n",
       "    <tr>\n",
       "      <th>0</th>\n",
       "      <td>536365</td>\n",
       "      <td>85123A</td>\n",
       "      <td>WHITE HANGING HEART T-LIGHT HOLDER</td>\n",
       "      <td>6</td>\n",
       "      <td>2.55</td>\n",
       "      <td>United Kingdom</td>\n",
       "      <td>15.30</td>\n",
       "      <td>2010-12-01 08:26:00</td>\n",
       "      <td>40</td>\n",
       "      <td>(5, 8]</td>\n",
       "      <td>(2, 3]</td>\n",
       "    </tr>\n",
       "    <tr>\n",
       "      <th>1</th>\n",
       "      <td>536365</td>\n",
       "      <td>71053</td>\n",
       "      <td>WHITE METAL LANTERN</td>\n",
       "      <td>6</td>\n",
       "      <td>3.39</td>\n",
       "      <td>United Kingdom</td>\n",
       "      <td>20.34</td>\n",
       "      <td>2010-12-01 08:26:00</td>\n",
       "      <td>40</td>\n",
       "      <td>(5, 8]</td>\n",
       "      <td>(3, 4]</td>\n",
       "    </tr>\n",
       "    <tr>\n",
       "      <th>2</th>\n",
       "      <td>536365</td>\n",
       "      <td>84406B</td>\n",
       "      <td>CREAM CUPID HEARTS COAT HANGER</td>\n",
       "      <td>8</td>\n",
       "      <td>2.75</td>\n",
       "      <td>United Kingdom</td>\n",
       "      <td>22.00</td>\n",
       "      <td>2010-12-01 08:26:00</td>\n",
       "      <td>40</td>\n",
       "      <td>(5, 8]</td>\n",
       "      <td>(2, 3]</td>\n",
       "    </tr>\n",
       "    <tr>\n",
       "      <th>3</th>\n",
       "      <td>536365</td>\n",
       "      <td>84029G</td>\n",
       "      <td>KNITTED UNION FLAG HOT WATER BOTTLE</td>\n",
       "      <td>6</td>\n",
       "      <td>3.39</td>\n",
       "      <td>United Kingdom</td>\n",
       "      <td>20.34</td>\n",
       "      <td>2010-12-01 08:26:00</td>\n",
       "      <td>40</td>\n",
       "      <td>(5, 8]</td>\n",
       "      <td>(3, 4]</td>\n",
       "    </tr>\n",
       "    <tr>\n",
       "      <th>4</th>\n",
       "      <td>536365</td>\n",
       "      <td>84029E</td>\n",
       "      <td>RED WOOLLY HOTTIE WHITE HEART.</td>\n",
       "      <td>6</td>\n",
       "      <td>3.39</td>\n",
       "      <td>United Kingdom</td>\n",
       "      <td>20.34</td>\n",
       "      <td>2010-12-01 08:26:00</td>\n",
       "      <td>40</td>\n",
       "      <td>(5, 8]</td>\n",
       "      <td>(3, 4]</td>\n",
       "    </tr>\n",
       "  </tbody>\n",
       "</table>\n",
       "</div>"
      ],
      "text/plain": [
       "  Invoice_No StockCode                          Description  Quantity  \\\n",
       "0     536365    85123A   WHITE HANGING HEART T-LIGHT HOLDER         6   \n",
       "1     536365     71053                  WHITE METAL LANTERN         6   \n",
       "2     536365    84406B       CREAM CUPID HEARTS COAT HANGER         8   \n",
       "3     536365    84029G  KNITTED UNION FLAG HOT WATER BOTTLE         6   \n",
       "4     536365    84029E       RED WOOLLY HOTTIE WHITE HEART.         6   \n",
       "\n",
       "   UnitPrice         Country  Sales         InvoiceDate  QuantityInv  \\\n",
       "0       2.55  United Kingdom  15.30 2010-12-01 08:26:00           40   \n",
       "1       3.39  United Kingdom  20.34 2010-12-01 08:26:00           40   \n",
       "2       2.75  United Kingdom  22.00 2010-12-01 08:26:00           40   \n",
       "3       3.39  United Kingdom  20.34 2010-12-01 08:26:00           40   \n",
       "4       3.39  United Kingdom  20.34 2010-12-01 08:26:00           40   \n",
       "\n",
       "  QuantityRange PriceRange  \n",
       "0        (5, 8]     (2, 3]  \n",
       "1        (5, 8]     (3, 4]  \n",
       "2        (5, 8]     (2, 3]  \n",
       "3        (5, 8]     (3, 4]  \n",
       "4        (5, 8]     (3, 4]  "
      ]
     },
     "execution_count": 50,
     "metadata": {},
     "output_type": "execute_result"
    }
   ],
   "source": [
    "bins_q = pd.IntervalIndex.from_tuples([(0, 2), (2, 5), (5, 8), (8, 11), (11, 14), (15, 5000)])\n",
    "df_clean['QuantityRange'] = pd.cut(df_clean['Quantity'], bins=bins_q)\n",
    "bins_p = pd.IntervalIndex.from_tuples([(0, 1), (1, 2), (2, 3), (3, 4), (4, 20)])\n",
    "df_clean['PriceRange'] = pd.cut(df_clean['UnitPrice'], bins=bins_p)\n",
    "df_clean.head()"
   ]
  },
  {
   "cell_type": "markdown",
   "id": "2a9bdd90",
   "metadata": {},
   "source": [
    "# Extracting and bucketizing dates\n",
    "\n",
    "We've observed that the sales of presents vary depending on the season: they peak in Q4, then decline sharply in Q1 of the following year, before rising again to reach their new peak in Q4. We can develop a new feature based on this insight that might enhance our model."
   ]
  },
  {
   "cell_type": "code",
   "execution_count": 51,
   "id": "c83c55df",
   "metadata": {},
   "outputs": [
    {
     "data": {
      "text/html": [
       "<div>\n",
       "<style scoped>\n",
       "    .dataframe tbody tr th:only-of-type {\n",
       "        vertical-align: middle;\n",
       "    }\n",
       "\n",
       "    .dataframe tbody tr th {\n",
       "        vertical-align: top;\n",
       "    }\n",
       "\n",
       "    .dataframe thead th {\n",
       "        text-align: right;\n",
       "    }\n",
       "</style>\n",
       "<table border=\"1\" class=\"dataframe\">\n",
       "  <thead>\n",
       "    <tr style=\"text-align: right;\">\n",
       "      <th></th>\n",
       "      <th>Invoice_No</th>\n",
       "      <th>StockCode</th>\n",
       "      <th>Description</th>\n",
       "      <th>Quantity</th>\n",
       "      <th>UnitPrice</th>\n",
       "      <th>Country</th>\n",
       "      <th>Sales</th>\n",
       "      <th>InvoiceDate</th>\n",
       "      <th>QuantityInv</th>\n",
       "      <th>QuantityRange</th>\n",
       "      <th>PriceRange</th>\n",
       "      <th>Month</th>\n",
       "    </tr>\n",
       "  </thead>\n",
       "  <tbody>\n",
       "    <tr>\n",
       "      <th>0</th>\n",
       "      <td>536365</td>\n",
       "      <td>85123A</td>\n",
       "      <td>WHITE HANGING HEART T-LIGHT HOLDER</td>\n",
       "      <td>6</td>\n",
       "      <td>2.55</td>\n",
       "      <td>United Kingdom</td>\n",
       "      <td>15.30</td>\n",
       "      <td>2010-12-01 08:26:00</td>\n",
       "      <td>40</td>\n",
       "      <td>(5, 8]</td>\n",
       "      <td>(2, 3]</td>\n",
       "      <td>12</td>\n",
       "    </tr>\n",
       "    <tr>\n",
       "      <th>1</th>\n",
       "      <td>536365</td>\n",
       "      <td>71053</td>\n",
       "      <td>WHITE METAL LANTERN</td>\n",
       "      <td>6</td>\n",
       "      <td>3.39</td>\n",
       "      <td>United Kingdom</td>\n",
       "      <td>20.34</td>\n",
       "      <td>2010-12-01 08:26:00</td>\n",
       "      <td>40</td>\n",
       "      <td>(5, 8]</td>\n",
       "      <td>(3, 4]</td>\n",
       "      <td>12</td>\n",
       "    </tr>\n",
       "    <tr>\n",
       "      <th>2</th>\n",
       "      <td>536365</td>\n",
       "      <td>84406B</td>\n",
       "      <td>CREAM CUPID HEARTS COAT HANGER</td>\n",
       "      <td>8</td>\n",
       "      <td>2.75</td>\n",
       "      <td>United Kingdom</td>\n",
       "      <td>22.00</td>\n",
       "      <td>2010-12-01 08:26:00</td>\n",
       "      <td>40</td>\n",
       "      <td>(5, 8]</td>\n",
       "      <td>(2, 3]</td>\n",
       "      <td>12</td>\n",
       "    </tr>\n",
       "    <tr>\n",
       "      <th>3</th>\n",
       "      <td>536365</td>\n",
       "      <td>84029G</td>\n",
       "      <td>KNITTED UNION FLAG HOT WATER BOTTLE</td>\n",
       "      <td>6</td>\n",
       "      <td>3.39</td>\n",
       "      <td>United Kingdom</td>\n",
       "      <td>20.34</td>\n",
       "      <td>2010-12-01 08:26:00</td>\n",
       "      <td>40</td>\n",
       "      <td>(5, 8]</td>\n",
       "      <td>(3, 4]</td>\n",
       "      <td>12</td>\n",
       "    </tr>\n",
       "    <tr>\n",
       "      <th>4</th>\n",
       "      <td>536365</td>\n",
       "      <td>84029E</td>\n",
       "      <td>RED WOOLLY HOTTIE WHITE HEART.</td>\n",
       "      <td>6</td>\n",
       "      <td>3.39</td>\n",
       "      <td>United Kingdom</td>\n",
       "      <td>20.34</td>\n",
       "      <td>2010-12-01 08:26:00</td>\n",
       "      <td>40</td>\n",
       "      <td>(5, 8]</td>\n",
       "      <td>(3, 4]</td>\n",
       "      <td>12</td>\n",
       "    </tr>\n",
       "  </tbody>\n",
       "</table>\n",
       "</div>"
      ],
      "text/plain": [
       "  Invoice_No StockCode                          Description  Quantity  \\\n",
       "0     536365    85123A   WHITE HANGING HEART T-LIGHT HOLDER         6   \n",
       "1     536365     71053                  WHITE METAL LANTERN         6   \n",
       "2     536365    84406B       CREAM CUPID HEARTS COAT HANGER         8   \n",
       "3     536365    84029G  KNITTED UNION FLAG HOT WATER BOTTLE         6   \n",
       "4     536365    84029E       RED WOOLLY HOTTIE WHITE HEART.         6   \n",
       "\n",
       "   UnitPrice         Country  Sales         InvoiceDate  QuantityInv  \\\n",
       "0       2.55  United Kingdom  15.30 2010-12-01 08:26:00           40   \n",
       "1       3.39  United Kingdom  20.34 2010-12-01 08:26:00           40   \n",
       "2       2.75  United Kingdom  22.00 2010-12-01 08:26:00           40   \n",
       "3       3.39  United Kingdom  20.34 2010-12-01 08:26:00           40   \n",
       "4       3.39  United Kingdom  20.34 2010-12-01 08:26:00           40   \n",
       "\n",
       "  QuantityRange PriceRange  Month  \n",
       "0        (5, 8]     (2, 3]     12  \n",
       "1        (5, 8]     (3, 4]     12  \n",
       "2        (5, 8]     (2, 3]     12  \n",
       "3        (5, 8]     (3, 4]     12  \n",
       "4        (5, 8]     (3, 4]     12  "
      ]
     },
     "execution_count": 51,
     "metadata": {},
     "output_type": "execute_result"
    }
   ],
   "source": [
    "df_clean['Month'] = df_clean['InvoiceDate'].dt.month\n",
    "df_clean.head()"
   ]
  },
  {
   "cell_type": "code",
   "execution_count": 52,
   "id": "faa2494f",
   "metadata": {},
   "outputs": [
    {
     "data": {
      "text/html": [
       "<div>\n",
       "<style scoped>\n",
       "    .dataframe tbody tr th:only-of-type {\n",
       "        vertical-align: middle;\n",
       "    }\n",
       "\n",
       "    .dataframe tbody tr th {\n",
       "        vertical-align: top;\n",
       "    }\n",
       "\n",
       "    .dataframe thead th {\n",
       "        text-align: right;\n",
       "    }\n",
       "</style>\n",
       "<table border=\"1\" class=\"dataframe\">\n",
       "  <thead>\n",
       "    <tr style=\"text-align: right;\">\n",
       "      <th></th>\n",
       "      <th>Invoice_No</th>\n",
       "      <th>StockCode</th>\n",
       "      <th>Description</th>\n",
       "      <th>Quantity</th>\n",
       "      <th>UnitPrice</th>\n",
       "      <th>Country</th>\n",
       "      <th>Sales</th>\n",
       "      <th>InvoiceDate</th>\n",
       "      <th>QuantityInv</th>\n",
       "      <th>QuantityRange</th>\n",
       "      <th>PriceRange</th>\n",
       "      <th>Month</th>\n",
       "      <th>DateRange</th>\n",
       "    </tr>\n",
       "  </thead>\n",
       "  <tbody>\n",
       "    <tr>\n",
       "      <th>520388</th>\n",
       "      <td>581587</td>\n",
       "      <td>22613</td>\n",
       "      <td>PACK OF 20 SPACEBOY NAPKINS</td>\n",
       "      <td>12</td>\n",
       "      <td>0.85</td>\n",
       "      <td>France</td>\n",
       "      <td>10.20</td>\n",
       "      <td>2011-12-09 12:50:00</td>\n",
       "      <td>105</td>\n",
       "      <td>(11, 14]</td>\n",
       "      <td>(0, 1]</td>\n",
       "      <td>12</td>\n",
       "      <td>(9, 12]</td>\n",
       "    </tr>\n",
       "    <tr>\n",
       "      <th>520389</th>\n",
       "      <td>581587</td>\n",
       "      <td>22899</td>\n",
       "      <td>CHILDREN'S APRON DOLLY GIRL</td>\n",
       "      <td>6</td>\n",
       "      <td>2.10</td>\n",
       "      <td>France</td>\n",
       "      <td>12.60</td>\n",
       "      <td>2011-12-09 12:50:00</td>\n",
       "      <td>105</td>\n",
       "      <td>(5, 8]</td>\n",
       "      <td>(2, 3]</td>\n",
       "      <td>12</td>\n",
       "      <td>(9, 12]</td>\n",
       "    </tr>\n",
       "    <tr>\n",
       "      <th>520390</th>\n",
       "      <td>581587</td>\n",
       "      <td>23254</td>\n",
       "      <td>CHILDRENS CUTLERY DOLLY GIRL</td>\n",
       "      <td>4</td>\n",
       "      <td>4.15</td>\n",
       "      <td>France</td>\n",
       "      <td>16.60</td>\n",
       "      <td>2011-12-09 12:50:00</td>\n",
       "      <td>105</td>\n",
       "      <td>(2, 5]</td>\n",
       "      <td>(4, 20]</td>\n",
       "      <td>12</td>\n",
       "      <td>(9, 12]</td>\n",
       "    </tr>\n",
       "    <tr>\n",
       "      <th>520391</th>\n",
       "      <td>581587</td>\n",
       "      <td>23255</td>\n",
       "      <td>CHILDRENS CUTLERY CIRCUS PARADE</td>\n",
       "      <td>4</td>\n",
       "      <td>4.15</td>\n",
       "      <td>France</td>\n",
       "      <td>16.60</td>\n",
       "      <td>2011-12-09 12:50:00</td>\n",
       "      <td>105</td>\n",
       "      <td>(2, 5]</td>\n",
       "      <td>(4, 20]</td>\n",
       "      <td>12</td>\n",
       "      <td>(9, 12]</td>\n",
       "    </tr>\n",
       "    <tr>\n",
       "      <th>520392</th>\n",
       "      <td>581587</td>\n",
       "      <td>22138</td>\n",
       "      <td>BAKING SET 9 PIECE RETROSPOT</td>\n",
       "      <td>3</td>\n",
       "      <td>4.95</td>\n",
       "      <td>France</td>\n",
       "      <td>14.85</td>\n",
       "      <td>2011-12-09 12:50:00</td>\n",
       "      <td>105</td>\n",
       "      <td>(2, 5]</td>\n",
       "      <td>(4, 20]</td>\n",
       "      <td>12</td>\n",
       "      <td>(9, 12]</td>\n",
       "    </tr>\n",
       "  </tbody>\n",
       "</table>\n",
       "</div>"
      ],
      "text/plain": [
       "       Invoice_No StockCode                      Description  Quantity  \\\n",
       "520388     581587     22613      PACK OF 20 SPACEBOY NAPKINS        12   \n",
       "520389     581587     22899     CHILDREN'S APRON DOLLY GIRL          6   \n",
       "520390     581587     23254    CHILDRENS CUTLERY DOLLY GIRL          4   \n",
       "520391     581587     23255  CHILDRENS CUTLERY CIRCUS PARADE         4   \n",
       "520392     581587     22138    BAKING SET 9 PIECE RETROSPOT          3   \n",
       "\n",
       "        UnitPrice Country  Sales         InvoiceDate  QuantityInv  \\\n",
       "520388       0.85  France  10.20 2011-12-09 12:50:00          105   \n",
       "520389       2.10  France  12.60 2011-12-09 12:50:00          105   \n",
       "520390       4.15  France  16.60 2011-12-09 12:50:00          105   \n",
       "520391       4.15  France  16.60 2011-12-09 12:50:00          105   \n",
       "520392       4.95  France  14.85 2011-12-09 12:50:00          105   \n",
       "\n",
       "       QuantityRange PriceRange  Month DateRange  \n",
       "520388      (11, 14]     (0, 1]     12   (9, 12]  \n",
       "520389        (5, 8]     (2, 3]     12   (9, 12]  \n",
       "520390        (2, 5]    (4, 20]     12   (9, 12]  \n",
       "520391        (2, 5]    (4, 20]     12   (9, 12]  \n",
       "520392        (2, 5]    (4, 20]     12   (9, 12]  "
      ]
     },
     "execution_count": 52,
     "metadata": {},
     "output_type": "execute_result"
    }
   ],
   "source": [
    "bins_d = pd.IntervalIndex.from_tuples([(0,3),(3,6),(6,9),(9,12)])\n",
    "df_clean['DateRange'] = pd.cut(df_clean['Month'], bins=bins_d, labels=['q1','q2','q3','q4'])\n",
    "df_clean.tail()"
   ]
  },
  {
   "cell_type": "markdown",
   "id": "ded291ea",
   "metadata": {},
   "source": [
    "# Building a model"
   ]
  },
  {
   "cell_type": "markdown",
   "id": "817f71a2",
   "metadata": {},
   "source": [
    "# Splitting data into UK and non-UK\n",
    "\n",
    "Because some patterns may apply to certain countries but not to the UK or vice versa, we must examine these two datasets independently in order to obtain more uniform data for a model. Testable hypothesis number two: how well does the UK-specific model perform when applied to data from other nations?"
   ]
  },
  {
   "cell_type": "code",
   "execution_count": 53,
   "id": "37b47d30",
   "metadata": {},
   "outputs": [
    {
     "data": {
      "text/html": [
       "<div>\n",
       "<style scoped>\n",
       "    .dataframe tbody tr th:only-of-type {\n",
       "        vertical-align: middle;\n",
       "    }\n",
       "\n",
       "    .dataframe tbody tr th {\n",
       "        vertical-align: top;\n",
       "    }\n",
       "\n",
       "    .dataframe thead th {\n",
       "        text-align: right;\n",
       "    }\n",
       "</style>\n",
       "<table border=\"1\" class=\"dataframe\">\n",
       "  <thead>\n",
       "    <tr style=\"text-align: right;\">\n",
       "      <th></th>\n",
       "      <th>Invoice_No</th>\n",
       "      <th>StockCode</th>\n",
       "      <th>Description</th>\n",
       "      <th>Quantity</th>\n",
       "      <th>UnitPrice</th>\n",
       "      <th>Country</th>\n",
       "      <th>Sales</th>\n",
       "      <th>InvoiceDate</th>\n",
       "      <th>QuantityInv</th>\n",
       "      <th>QuantityRange</th>\n",
       "      <th>PriceRange</th>\n",
       "      <th>Month</th>\n",
       "      <th>DateRange</th>\n",
       "    </tr>\n",
       "  </thead>\n",
       "  <tbody>\n",
       "    <tr>\n",
       "      <th>0</th>\n",
       "      <td>536365</td>\n",
       "      <td>85123A</td>\n",
       "      <td>WHITE HANGING HEART T-LIGHT HOLDER</td>\n",
       "      <td>6</td>\n",
       "      <td>2.55</td>\n",
       "      <td>United Kingdom</td>\n",
       "      <td>15.30</td>\n",
       "      <td>2010-12-01 08:26:00</td>\n",
       "      <td>40</td>\n",
       "      <td>(5, 8]</td>\n",
       "      <td>(2, 3]</td>\n",
       "      <td>12</td>\n",
       "      <td>(9, 12]</td>\n",
       "    </tr>\n",
       "    <tr>\n",
       "      <th>1</th>\n",
       "      <td>536365</td>\n",
       "      <td>71053</td>\n",
       "      <td>WHITE METAL LANTERN</td>\n",
       "      <td>6</td>\n",
       "      <td>3.39</td>\n",
       "      <td>United Kingdom</td>\n",
       "      <td>20.34</td>\n",
       "      <td>2010-12-01 08:26:00</td>\n",
       "      <td>40</td>\n",
       "      <td>(5, 8]</td>\n",
       "      <td>(3, 4]</td>\n",
       "      <td>12</td>\n",
       "      <td>(9, 12]</td>\n",
       "    </tr>\n",
       "    <tr>\n",
       "      <th>2</th>\n",
       "      <td>536365</td>\n",
       "      <td>84406B</td>\n",
       "      <td>CREAM CUPID HEARTS COAT HANGER</td>\n",
       "      <td>8</td>\n",
       "      <td>2.75</td>\n",
       "      <td>United Kingdom</td>\n",
       "      <td>22.00</td>\n",
       "      <td>2010-12-01 08:26:00</td>\n",
       "      <td>40</td>\n",
       "      <td>(5, 8]</td>\n",
       "      <td>(2, 3]</td>\n",
       "      <td>12</td>\n",
       "      <td>(9, 12]</td>\n",
       "    </tr>\n",
       "    <tr>\n",
       "      <th>3</th>\n",
       "      <td>536365</td>\n",
       "      <td>84029G</td>\n",
       "      <td>KNITTED UNION FLAG HOT WATER BOTTLE</td>\n",
       "      <td>6</td>\n",
       "      <td>3.39</td>\n",
       "      <td>United Kingdom</td>\n",
       "      <td>20.34</td>\n",
       "      <td>2010-12-01 08:26:00</td>\n",
       "      <td>40</td>\n",
       "      <td>(5, 8]</td>\n",
       "      <td>(3, 4]</td>\n",
       "      <td>12</td>\n",
       "      <td>(9, 12]</td>\n",
       "    </tr>\n",
       "    <tr>\n",
       "      <th>4</th>\n",
       "      <td>536365</td>\n",
       "      <td>84029E</td>\n",
       "      <td>RED WOOLLY HOTTIE WHITE HEART.</td>\n",
       "      <td>6</td>\n",
       "      <td>3.39</td>\n",
       "      <td>United Kingdom</td>\n",
       "      <td>20.34</td>\n",
       "      <td>2010-12-01 08:26:00</td>\n",
       "      <td>40</td>\n",
       "      <td>(5, 8]</td>\n",
       "      <td>(3, 4]</td>\n",
       "      <td>12</td>\n",
       "      <td>(9, 12]</td>\n",
       "    </tr>\n",
       "  </tbody>\n",
       "</table>\n",
       "</div>"
      ],
      "text/plain": [
       "  Invoice_No StockCode                          Description  Quantity  \\\n",
       "0     536365    85123A   WHITE HANGING HEART T-LIGHT HOLDER         6   \n",
       "1     536365     71053                  WHITE METAL LANTERN         6   \n",
       "2     536365    84406B       CREAM CUPID HEARTS COAT HANGER         8   \n",
       "3     536365    84029G  KNITTED UNION FLAG HOT WATER BOTTLE         6   \n",
       "4     536365    84029E       RED WOOLLY HOTTIE WHITE HEART.         6   \n",
       "\n",
       "   UnitPrice         Country  Sales         InvoiceDate  QuantityInv  \\\n",
       "0       2.55  United Kingdom  15.30 2010-12-01 08:26:00           40   \n",
       "1       3.39  United Kingdom  20.34 2010-12-01 08:26:00           40   \n",
       "2       2.75  United Kingdom  22.00 2010-12-01 08:26:00           40   \n",
       "3       3.39  United Kingdom  20.34 2010-12-01 08:26:00           40   \n",
       "4       3.39  United Kingdom  20.34 2010-12-01 08:26:00           40   \n",
       "\n",
       "  QuantityRange PriceRange  Month DateRange  \n",
       "0        (5, 8]     (2, 3]     12   (9, 12]  \n",
       "1        (5, 8]     (3, 4]     12   (9, 12]  \n",
       "2        (5, 8]     (2, 3]     12   (9, 12]  \n",
       "3        (5, 8]     (3, 4]     12   (9, 12]  \n",
       "4        (5, 8]     (3, 4]     12   (9, 12]  "
      ]
     },
     "execution_count": 53,
     "metadata": {},
     "output_type": "execute_result"
    }
   ],
   "source": [
    "df_uk = df_clean[df_clean['Country'] == 'United Kingdom']\n",
    "df_abroad = df_clean[df_clean['Country'] != 'United Kingdom']\n",
    "df_uk.head()"
   ]
  },
  {
   "cell_type": "markdown",
   "id": "325d8cfb",
   "metadata": {},
   "source": [
    "# Extracting features and creating dummy variables"
   ]
  },
  {
   "cell_type": "code",
   "execution_count": 54,
   "id": "74624f5d",
   "metadata": {},
   "outputs": [
    {
     "data": {
      "text/html": [
       "<div>\n",
       "<style scoped>\n",
       "    .dataframe tbody tr th:only-of-type {\n",
       "        vertical-align: middle;\n",
       "    }\n",
       "\n",
       "    .dataframe tbody tr th {\n",
       "        vertical-align: top;\n",
       "    }\n",
       "\n",
       "    .dataframe thead th {\n",
       "        text-align: right;\n",
       "    }\n",
       "</style>\n",
       "<table border=\"1\" class=\"dataframe\">\n",
       "  <thead>\n",
       "    <tr style=\"text-align: right;\">\n",
       "      <th></th>\n",
       "      <th>Sales</th>\n",
       "      <th>QuantityInv</th>\n",
       "      <th>QuantityRange</th>\n",
       "      <th>PriceRange</th>\n",
       "      <th>DateRange</th>\n",
       "    </tr>\n",
       "  </thead>\n",
       "  <tbody>\n",
       "    <tr>\n",
       "      <th>0</th>\n",
       "      <td>15.30</td>\n",
       "      <td>40</td>\n",
       "      <td>(5, 8]</td>\n",
       "      <td>(2, 3]</td>\n",
       "      <td>(9, 12]</td>\n",
       "    </tr>\n",
       "    <tr>\n",
       "      <th>1</th>\n",
       "      <td>20.34</td>\n",
       "      <td>40</td>\n",
       "      <td>(5, 8]</td>\n",
       "      <td>(3, 4]</td>\n",
       "      <td>(9, 12]</td>\n",
       "    </tr>\n",
       "    <tr>\n",
       "      <th>2</th>\n",
       "      <td>22.00</td>\n",
       "      <td>40</td>\n",
       "      <td>(5, 8]</td>\n",
       "      <td>(2, 3]</td>\n",
       "      <td>(9, 12]</td>\n",
       "    </tr>\n",
       "    <tr>\n",
       "      <th>3</th>\n",
       "      <td>20.34</td>\n",
       "      <td>40</td>\n",
       "      <td>(5, 8]</td>\n",
       "      <td>(3, 4]</td>\n",
       "      <td>(9, 12]</td>\n",
       "    </tr>\n",
       "    <tr>\n",
       "      <th>4</th>\n",
       "      <td>20.34</td>\n",
       "      <td>40</td>\n",
       "      <td>(5, 8]</td>\n",
       "      <td>(3, 4]</td>\n",
       "      <td>(9, 12]</td>\n",
       "    </tr>\n",
       "  </tbody>\n",
       "</table>\n",
       "</div>"
      ],
      "text/plain": [
       "   Sales  QuantityInv QuantityRange PriceRange DateRange\n",
       "0  15.30           40        (5, 8]     (2, 3]   (9, 12]\n",
       "1  20.34           40        (5, 8]     (3, 4]   (9, 12]\n",
       "2  22.00           40        (5, 8]     (2, 3]   (9, 12]\n",
       "3  20.34           40        (5, 8]     (3, 4]   (9, 12]\n",
       "4  20.34           40        (5, 8]     (3, 4]   (9, 12]"
      ]
     },
     "execution_count": 54,
     "metadata": {},
     "output_type": "execute_result"
    }
   ],
   "source": [
    "df_uk_model = df_uk[['Sales', 'QuantityInv', 'QuantityRange', 'PriceRange', 'DateRange']]\n",
    "df_uk_model.head()"
   ]
  },
  {
   "cell_type": "code",
   "execution_count": 55,
   "id": "0760f772",
   "metadata": {},
   "outputs": [
    {
     "data": {
      "text/html": [
       "<div>\n",
       "<style scoped>\n",
       "    .dataframe tbody tr th:only-of-type {\n",
       "        vertical-align: middle;\n",
       "    }\n",
       "\n",
       "    .dataframe tbody tr th {\n",
       "        vertical-align: top;\n",
       "    }\n",
       "\n",
       "    .dataframe thead th {\n",
       "        text-align: right;\n",
       "    }\n",
       "</style>\n",
       "<table border=\"1\" class=\"dataframe\">\n",
       "  <thead>\n",
       "    <tr style=\"text-align: right;\">\n",
       "      <th></th>\n",
       "      <th>Sales</th>\n",
       "      <th>QuantityInv</th>\n",
       "      <th>qr_(0, 2]</th>\n",
       "      <th>qr_(2, 5]</th>\n",
       "      <th>qr_(5, 8]</th>\n",
       "      <th>qr_(8, 11]</th>\n",
       "      <th>qr_(11, 14]</th>\n",
       "      <th>qr_(15, 5000]</th>\n",
       "      <th>pr_(0, 1]</th>\n",
       "      <th>pr_(1, 2]</th>\n",
       "      <th>pr_(2, 3]</th>\n",
       "      <th>pr_(3, 4]</th>\n",
       "      <th>pr_(4, 20]</th>\n",
       "      <th>dr_(0, 3]</th>\n",
       "      <th>dr_(3, 6]</th>\n",
       "      <th>dr_(6, 9]</th>\n",
       "      <th>dr_(9, 12]</th>\n",
       "    </tr>\n",
       "  </thead>\n",
       "  <tbody>\n",
       "    <tr>\n",
       "      <th>0</th>\n",
       "      <td>15.30</td>\n",
       "      <td>40</td>\n",
       "      <td>0</td>\n",
       "      <td>0</td>\n",
       "      <td>1</td>\n",
       "      <td>0</td>\n",
       "      <td>0</td>\n",
       "      <td>0</td>\n",
       "      <td>0</td>\n",
       "      <td>0</td>\n",
       "      <td>1</td>\n",
       "      <td>0</td>\n",
       "      <td>0</td>\n",
       "      <td>0</td>\n",
       "      <td>0</td>\n",
       "      <td>0</td>\n",
       "      <td>1</td>\n",
       "    </tr>\n",
       "    <tr>\n",
       "      <th>1</th>\n",
       "      <td>20.34</td>\n",
       "      <td>40</td>\n",
       "      <td>0</td>\n",
       "      <td>0</td>\n",
       "      <td>1</td>\n",
       "      <td>0</td>\n",
       "      <td>0</td>\n",
       "      <td>0</td>\n",
       "      <td>0</td>\n",
       "      <td>0</td>\n",
       "      <td>0</td>\n",
       "      <td>1</td>\n",
       "      <td>0</td>\n",
       "      <td>0</td>\n",
       "      <td>0</td>\n",
       "      <td>0</td>\n",
       "      <td>1</td>\n",
       "    </tr>\n",
       "    <tr>\n",
       "      <th>2</th>\n",
       "      <td>22.00</td>\n",
       "      <td>40</td>\n",
       "      <td>0</td>\n",
       "      <td>0</td>\n",
       "      <td>1</td>\n",
       "      <td>0</td>\n",
       "      <td>0</td>\n",
       "      <td>0</td>\n",
       "      <td>0</td>\n",
       "      <td>0</td>\n",
       "      <td>1</td>\n",
       "      <td>0</td>\n",
       "      <td>0</td>\n",
       "      <td>0</td>\n",
       "      <td>0</td>\n",
       "      <td>0</td>\n",
       "      <td>1</td>\n",
       "    </tr>\n",
       "    <tr>\n",
       "      <th>3</th>\n",
       "      <td>20.34</td>\n",
       "      <td>40</td>\n",
       "      <td>0</td>\n",
       "      <td>0</td>\n",
       "      <td>1</td>\n",
       "      <td>0</td>\n",
       "      <td>0</td>\n",
       "      <td>0</td>\n",
       "      <td>0</td>\n",
       "      <td>0</td>\n",
       "      <td>0</td>\n",
       "      <td>1</td>\n",
       "      <td>0</td>\n",
       "      <td>0</td>\n",
       "      <td>0</td>\n",
       "      <td>0</td>\n",
       "      <td>1</td>\n",
       "    </tr>\n",
       "    <tr>\n",
       "      <th>4</th>\n",
       "      <td>20.34</td>\n",
       "      <td>40</td>\n",
       "      <td>0</td>\n",
       "      <td>0</td>\n",
       "      <td>1</td>\n",
       "      <td>0</td>\n",
       "      <td>0</td>\n",
       "      <td>0</td>\n",
       "      <td>0</td>\n",
       "      <td>0</td>\n",
       "      <td>0</td>\n",
       "      <td>1</td>\n",
       "      <td>0</td>\n",
       "      <td>0</td>\n",
       "      <td>0</td>\n",
       "      <td>0</td>\n",
       "      <td>1</td>\n",
       "    </tr>\n",
       "  </tbody>\n",
       "</table>\n",
       "</div>"
      ],
      "text/plain": [
       "   Sales  QuantityInv  qr_(0, 2]  qr_(2, 5]  qr_(5, 8]  qr_(8, 11]  \\\n",
       "0  15.30           40          0          0          1           0   \n",
       "1  20.34           40          0          0          1           0   \n",
       "2  22.00           40          0          0          1           0   \n",
       "3  20.34           40          0          0          1           0   \n",
       "4  20.34           40          0          0          1           0   \n",
       "\n",
       "   qr_(11, 14]  qr_(15, 5000]  pr_(0, 1]  pr_(1, 2]  pr_(2, 3]  pr_(3, 4]  \\\n",
       "0            0              0          0          0          1          0   \n",
       "1            0              0          0          0          0          1   \n",
       "2            0              0          0          0          1          0   \n",
       "3            0              0          0          0          0          1   \n",
       "4            0              0          0          0          0          1   \n",
       "\n",
       "   pr_(4, 20]  dr_(0, 3]  dr_(3, 6]  dr_(6, 9]  dr_(9, 12]  \n",
       "0           0          0          0          0           1  \n",
       "1           0          0          0          0           1  \n",
       "2           0          0          0          0           1  \n",
       "3           0          0          0          0           1  \n",
       "4           0          0          0          0           1  "
      ]
     },
     "execution_count": 55,
     "metadata": {},
     "output_type": "execute_result"
    }
   ],
   "source": [
    "df_data = df_uk_model.copy()\n",
    "df_data = pd.get_dummies(df_data, columns=['QuantityRange'], prefix='qr')\n",
    "df_data = pd.get_dummies(df_data, columns=['PriceRange'], prefix='pr')\n",
    "df_data = pd.get_dummies(df_data, columns=['DateRange'], prefix='dr')\n",
    "df_data.head()"
   ]
  },
  {
   "cell_type": "markdown",
   "id": "2cca8182",
   "metadata": {},
   "source": [
    "# Scaling\n",
    "\n",
    "Scaling the \"QuantityInv\" feature would make sense as well, because most of our characteristics fall between 0 and 1. Generally speaking, it is a good idea to scale features."
   ]
  },
  {
   "cell_type": "code",
   "execution_count": 56,
   "id": "e114127e",
   "metadata": {},
   "outputs": [],
   "source": [
    "from sklearn.preprocessing import scale\n",
    "df_data['QuantityInv'] = scale(df_data['QuantityInv'])"
   ]
  },
  {
   "cell_type": "markdown",
   "id": "b991edad",
   "metadata": {},
   "source": [
    "#  Train-Test Split"
   ]
  },
  {
   "cell_type": "code",
   "execution_count": 57,
   "id": "3f320ed2",
   "metadata": {},
   "outputs": [],
   "source": [
    "y = df_data['Sales']\n",
    "X = df_data.drop(columns=['Sales'])"
   ]
  },
  {
   "cell_type": "code",
   "execution_count": 58,
   "id": "5f5d8a1a",
   "metadata": {},
   "outputs": [],
   "source": [
    "from sklearn.model_selection import train_test_split\n",
    "X_train, X_test, y_train, y_test = train_test_split(X, y, test_size = 0.20, random_state=42)"
   ]
  },
  {
   "cell_type": "markdown",
   "id": "ab99db09",
   "metadata": {},
   "source": [
    "# Testing and validating different models\n",
    "\n",
    "Here we use GridSearch and CrossValidation to test three types of regressors: Linear, DecisionTree and RandomForest. This can take a while..."
   ]
  },
  {
   "cell_type": "code",
   "execution_count": null,
   "id": "aabc4088",
   "metadata": {},
   "outputs": [],
   "source": [
    "from sklearn.model_selection import KFold\n",
    "from sklearn.linear_model import LinearRegression\n",
    "from sklearn.tree import DecisionTreeRegressor\n",
    "from sklearn.ensemble import RandomForestRegressor\n",
    "\n",
    "from sklearn.model_selection import GridSearchCV\n",
    "\n",
    "from sklearn.metrics import mean_absolute_error\n",
    "from sklearn.metrics import mean_squared_error\n",
    "from sklearn.metrics import r2_score\n",
    "\n",
    "# Linear Regression\n",
    "fit_intercepts = [True, False]\n",
    "param_grid_linear = dict(fit_intercept=fit_intercepts)\n",
    "linear_model = LinearRegression()\n",
    "\n",
    "# Decision Tree\n",
    "min_tree_splits = range(2,3)\n",
    "min_tree_leaves = range(2,3)\n",
    "param_grid_tree = dict(min_samples_split=min_tree_splits,\n",
    "                       min_samples_leaf=min_tree_leaves)\n",
    "tree_model = DecisionTreeRegressor()\n",
    "\n",
    "# Random Forest\n",
    "estimators_space = [100]\n",
    "min_sample_splits = range(2,4)\n",
    "min_sample_leaves = range(2,3)\n",
    "param_grid_forest = dict(min_samples_split=min_sample_splits,\n",
    "                       min_samples_leaf=min_sample_leaves,\n",
    "                       n_estimators=estimators_space)\n",
    "forest_model = RandomForestRegressor()\n",
    "\n",
    "cv = 5\n",
    "\n",
    "models_to_test = ['LinearRegression','DecisionTreeRegressor','RandomForest']\n",
    "regression_dict = dict(LinearRegression=linear_model,\n",
    "                       DecisionTreeRegressor=tree_model,\n",
    "                       RandomForest=forest_model)\n",
    "param_grid_dict = dict(LinearRegression=param_grid_linear,\n",
    "                       DecisionTreeRegressor=param_grid_tree,\n",
    "                       RandomForest=param_grid_forest)\n",
    "\n",
    "score_dict = {}\n",
    "params_dict = {}\n",
    "mae_dict = {}\n",
    "mse_dict = {}\n",
    "r2_dict = {}\n",
    "best_est_dict = {}\n",
    "\n",
    "for model in models_to_test:\n",
    "  regressor = GridSearchCV(regression_dict[model], param_grid_dict[model], cv=cv, n_jobs=-1)\n",
    "\n",
    "  regressor.fit(X_train, y_train)\n",
    "  y_pred = regressor.predict(X_test)\n",
    "\n",
    "  # Print the tuned parameters and score\n",
    "  print(\" === Start report for regressor {} ===\".format(model))\n",
    "  score_dict[model] = regressor.best_score_\n",
    "  print(\"Tuned Parameters: {}\".format(regressor.best_params_)) \n",
    "  params_dict = regressor.best_params_\n",
    "  print(\"Best score is {}\".format(regressor.best_score_))\n",
    "\n",
    "  # Compute metrics\n",
    "  mae_dict[model] = mean_absolute_error(y_test, y_pred)\n",
    "  print(\"MAE for {}\".format(model))\n",
    "  print(mean_absolute_error(y_test, y_pred))\n",
    "  mse_dict[model] = mean_squared_error(y_test, y_pred)\n",
    "  print(\"MSE for {}\".format(model))\n",
    "  print(mean_squared_error(y_test, y_pred))\n",
    "  r2_dict[model] = r2_score(y_test, y_pred)\n",
    "  print(\"R2 score for {}\".format(model))\n",
    "  print(r2_score(y_test, y_pred))\n",
    "  print(\" === End of report for regressor {} === \\n\".format(model))\n",
    "  \n",
    "  # Add best estimator to the dict\n",
    "  best_est_dict[model] = regressor.best_estimator_"
   ]
  },
  {
   "cell_type": "code",
   "execution_count": null,
   "id": "906a5ea3",
   "metadata": {},
   "outputs": [],
   "source": [
    "# Creating summary report\n",
    "summary_cols = ['Best Score']\n",
    "summary = pd.DataFrame.from_dict(r2_dict, orient='index')\n",
    "summary.index.name = 'Regressor'\n",
    "summary.columns = summary_cols\n",
    "summary = summary.reset_index()\n",
    "\n",
    "# Visualizing results\n",
    "plt.figure(figsize=(12,4))\n",
    "plt.xlabel('Best score')\n",
    "plt.title('Regressor Comparison')\n",
    "\n",
    "sns.barplot(x='Best Score', y='Regressor', data=summary)"
   ]
  },
  {
   "cell_type": "markdown",
   "id": "7a88fb0e",
   "metadata": {},
   "source": [
    "# Conclusions"
   ]
  },
  {
   "cell_type": "markdown",
   "id": "1ee3eafa",
   "metadata": {},
   "source": [
    "This is an initial examination of a dataset of transactions using a sales prediction model. Many things can yet be made better:\n",
    "\n",
    "    -Perform cluster analysis and create features based on it\n",
    "    -Make a deeper split of dates\n",
    "    -Get more insights from Descriptions and Stock numbers\n",
    "    -Compare domestic and abroad sales\n",
    "    -Try deep learning models\n",
    "\n",
    "Also we can play much more with tuning of hyperparameters of our models and give it more time for training.\n",
    "\n",
    "Random Forest Regressor appears to be the best model for our prediction with R2 score more than 0.6 which is not that bad."
   ]
  },
  {
   "cell_type": "code",
   "execution_count": null,
   "id": "b5881beb",
   "metadata": {},
   "outputs": [],
   "source": []
  },
  {
   "cell_type": "code",
   "execution_count": null,
   "id": "17674caa",
   "metadata": {},
   "outputs": [],
   "source": []
  },
  {
   "cell_type": "code",
   "execution_count": null,
   "id": "630084a9",
   "metadata": {},
   "outputs": [],
   "source": []
  },
  {
   "cell_type": "code",
   "execution_count": null,
   "id": "886a62b5",
   "metadata": {},
   "outputs": [],
   "source": []
  }
 ],
 "metadata": {
  "kernelspec": {
   "display_name": "Python 3 (ipykernel)",
   "language": "python",
   "name": "python3"
  },
  "language_info": {
   "codemirror_mode": {
    "name": "ipython",
    "version": 3
   },
   "file_extension": ".py",
   "mimetype": "text/x-python",
   "name": "python",
   "nbconvert_exporter": "python",
   "pygments_lexer": "ipython3",
   "version": "3.9.12"
  }
 },
 "nbformat": 4,
 "nbformat_minor": 5
}
